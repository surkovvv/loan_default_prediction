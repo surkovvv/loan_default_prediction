{
  "nbformat": 4,
  "nbformat_minor": 0,
  "metadata": {
    "colab": {
      "name": "18.11 \"LoanDefaultPrediction.ipynb\"",
      "provenance": [],
      "collapsed_sections": [],
      "include_colab_link": true
    },
    "kernelspec": {
      "display_name": "Python 3",
      "language": "python",
      "name": "python3"
    },
    "language_info": {
      "codemirror_mode": {
        "name": "ipython",
        "version": 3
      },
      "file_extension": ".py",
      "mimetype": "text/x-python",
      "name": "python",
      "nbconvert_exporter": "python",
      "pygments_lexer": "ipython3",
      "version": "3.8.5"
    }
  },
  "cells": [
    {
      "cell_type": "markdown",
      "metadata": {
        "id": "view-in-github",
        "colab_type": "text"
      },
      "source": [
        "<a href=\"https://colab.research.google.com/github/surkovvv/loan_default_prediction/blob/misha/18_11_%22LoanDefaultPrediction_ipynb%22.ipynb\" target=\"_parent\"><img src=\"https://colab.research.google.com/assets/colab-badge.svg\" alt=\"Open In Colab\"/></a>"
      ]
    },
    {
      "cell_type": "markdown",
      "metadata": {
        "id": "H7o3gKwnZYMb"
      },
      "source": [
        "Загрузим все необходимые библиотеки"
      ]
    },
    {
      "cell_type": "code",
      "metadata": {
        "id": "48kB5ZC3ZYMb"
      },
      "source": [
        "import pandas as pd\n",
        "import numpy as np\n",
        "import matplotlib.pyplot as plt\n",
        "import seaborn as sns\n",
        "import warnings\n",
        "warnings.simplefilter(\"ignore\")\n",
        "%matplotlib inline\n",
        "\n",
        "sns.set(style=\"darkgrid\")"
      ],
      "execution_count": null,
      "outputs": []
    },
    {
      "cell_type": "code",
      "metadata": {
        "colab": {
          "base_uri": "https://localhost:8080/",
          "height": 446
        },
        "id": "DhswsG6sZYMc",
        "outputId": "88c6c2b1-491e-4adb-a9a4-56c73aa7b160"
      },
      "source": [
        "X = pd.read_csv(\"applicationdata.csv\")\n",
        "#df1.sample(10)\n",
        "#pd.options.display.max_columns = None\n",
        "X.sample(5)"
      ],
      "execution_count": null,
      "outputs": [
        {
          "output_type": "execute_result",
          "data": {
            "text/html": [
              "<div>\n",
              "<style scoped>\n",
              "    .dataframe tbody tr th:only-of-type {\n",
              "        vertical-align: middle;\n",
              "    }\n",
              "\n",
              "    .dataframe tbody tr th {\n",
              "        vertical-align: top;\n",
              "    }\n",
              "\n",
              "    .dataframe thead th {\n",
              "        text-align: right;\n",
              "    }\n",
              "</style>\n",
              "<table border=\"1\" class=\"dataframe\">\n",
              "  <thead>\n",
              "    <tr style=\"text-align: right;\">\n",
              "      <th></th>\n",
              "      <th>CustomerID</th>\n",
              "      <th>LoanType</th>\n",
              "      <th>Reason</th>\n",
              "      <th>Application.Date</th>\n",
              "      <th>Employment.Length</th>\n",
              "      <th>Employment.Sector</th>\n",
              "      <th>RequestedAmount</th>\n",
              "      <th>OfferedAmount</th>\n",
              "      <th>FundedAmount</th>\n",
              "      <th>Duration</th>\n",
              "      <th>Age</th>\n",
              "      <th>EmailDomain</th>\n",
              "      <th>Residential.Status</th>\n",
              "      <th>Sex</th>\n",
              "      <th>Marital.Status</th>\n",
              "      <th>Dependents</th>\n",
              "      <th>City</th>\n",
              "      <th>State</th>\n",
              "      <th>PostalCode</th>\n",
              "      <th>Pay.Frequency</th>\n",
              "      <th>Product</th>\n",
              "      <th>Risk.Rating</th>\n",
              "      <th>Employment.Type</th>\n",
              "      <th>Requested.Duration</th>\n",
              "      <th>ArrearsLevel</th>\n",
              "      <th>IsWrittenOff</th>\n",
              "      <th>age.of.file</th>\n",
              "      <th>age.of.subject</th>\n",
              "      <th>time.at.address</th>\n",
              "      <th>time.at.employer</th>\n",
              "      <th>defaults</th>\n",
              "      <th>total.value.of.outstanding.defaults</th>\n",
              "      <th>defaults.paid</th>\n",
              "      <th>defaults.12</th>\n",
              "      <th>time.since.last.default</th>\n",
              "      <th>credit.enquiries.1</th>\n",
              "      <th>credit.enquiries.3</th>\n",
              "      <th>credit.enquiries.6</th>\n",
              "      <th>credit.enquiries.12</th>\n",
              "      <th>credit.enquiries.60</th>\n",
              "      <th>...</th>\n",
              "      <th>OverdrawnFees_wages_ratio</th>\n",
              "      <th>UncategorisedDebits_wages_ratio</th>\n",
              "      <th>OtherDebits_wages_ratio</th>\n",
              "      <th>AllOtherCredits_wages_ratio</th>\n",
              "      <th>Utilities_wages_ratio</th>\n",
              "      <th>AtmWithdrawals_wages_ratio</th>\n",
              "      <th>Gambling_wages_ratio</th>\n",
              "      <th>Groceries_wages_ratio</th>\n",
              "      <th>Insurance_wages_ratio</th>\n",
              "      <th>SubscriptionTv_wages_ratio</th>\n",
              "      <th>Telecommunications_wages_ratio</th>\n",
              "      <th>Transport_wages_ratio</th>\n",
              "      <th>Wages_repaymentcapacity_ratio</th>\n",
              "      <th>Centrelink_repaymentcapacity_ratio</th>\n",
              "      <th>SaccLoans_repaymentcapacity_ratio</th>\n",
              "      <th>NonSaccLoans_repaymentcapacity_ratio</th>\n",
              "      <th>DebtConsolidation_repaymentcapacity_ratio</th>\n",
              "      <th>DebtCollection_repaymentcapacity_ratio</th>\n",
              "      <th>Rent1_repaymentcapacity_ratio</th>\n",
              "      <th>OverdrawnFees_repaymentcapacity_ratio</th>\n",
              "      <th>UncategorisedDebits_repaymentcapacity_ratio</th>\n",
              "      <th>OtherDebits_repaymentcapacity_ratio</th>\n",
              "      <th>AllOtherCredits_repaymentcapacity_ratio</th>\n",
              "      <th>Utilities_repaymentcapacity_ratio</th>\n",
              "      <th>AtmWithdrawals_repaymentcapacity_ratio</th>\n",
              "      <th>Gambling_repaymentcapacity_ratio</th>\n",
              "      <th>Groceries_repaymentcapacity_ratio</th>\n",
              "      <th>Insurance_repaymentcapacity_ratio</th>\n",
              "      <th>SubscriptionTv_repaymentcapacity_ratio</th>\n",
              "      <th>Telecommunications_repaymentcapacity_ratio</th>\n",
              "      <th>Transport_repaymentcapacity_ratio</th>\n",
              "      <th>Income_MonthlyRepayments_ratio</th>\n",
              "      <th>NonDiscretionarySpending_MonthlyRepayments_ratio</th>\n",
              "      <th>DiscretionarySpending_MonthlyRepayments_ratio</th>\n",
              "      <th>RepaymentCapacity_MonthlyRepayments_ratio</th>\n",
              "      <th>MaxCdia</th>\n",
              "      <th>Isdefault</th>\n",
              "      <th>Isapproved</th>\n",
              "      <th>Inrange</th>\n",
              "      <th>Hasjson</th>\n",
              "    </tr>\n",
              "  </thead>\n",
              "  <tbody>\n",
              "    <tr>\n",
              "      <th>5991</th>\n",
              "      <td>177118.0</td>\n",
              "      <td>Repeat</td>\n",
              "      <td>Transport or petrol</td>\n",
              "      <td>2017-06-13 16:40:31.433</td>\n",
              "      <td>More than 1 year</td>\n",
              "      <td>Manufacturing, Trades and Service</td>\n",
              "      <td>2500.0</td>\n",
              "      <td>2500.0</td>\n",
              "      <td>2500.0</td>\n",
              "      <td>12 months</td>\n",
              "      <td>52.0</td>\n",
              "      <td>yahoo.com.au</td>\n",
              "      <td>Living with friends</td>\n",
              "      <td>M</td>\n",
              "      <td>Single</td>\n",
              "      <td>0</td>\n",
              "      <td>Berkshire Park</td>\n",
              "      <td>New South Wales</td>\n",
              "      <td>2765.0</td>\n",
              "      <td>Weekly</td>\n",
              "      <td>MACC</td>\n",
              "      <td>A5</td>\n",
              "      <td>Full time</td>\n",
              "      <td>24 months</td>\n",
              "      <td>NaN</td>\n",
              "      <td>0.0</td>\n",
              "      <td>372.00</td>\n",
              "      <td>52.00</td>\n",
              "      <td>33.00</td>\n",
              "      <td>0.0</td>\n",
              "      <td>1.0</td>\n",
              "      <td>0.0</td>\n",
              "      <td>1.0</td>\n",
              "      <td>0.0</td>\n",
              "      <td>35.0</td>\n",
              "      <td>4.0</td>\n",
              "      <td>4.0</td>\n",
              "      <td>5.0</td>\n",
              "      <td>6.0</td>\n",
              "      <td>11.0</td>\n",
              "      <td>...</td>\n",
              "      <td>0.0023</td>\n",
              "      <td>1.8498</td>\n",
              "      <td>1.8498</td>\n",
              "      <td>2.3835</td>\n",
              "      <td>0.000</td>\n",
              "      <td>0.0214</td>\n",
              "      <td>0.000</td>\n",
              "      <td>0.2440</td>\n",
              "      <td>0.0863</td>\n",
              "      <td>0.0000</td>\n",
              "      <td>0.1448</td>\n",
              "      <td>0.0000</td>\n",
              "      <td>NaN</td>\n",
              "      <td>NaN</td>\n",
              "      <td>NaN</td>\n",
              "      <td>NaN</td>\n",
              "      <td>NaN</td>\n",
              "      <td>NaN</td>\n",
              "      <td>NaN</td>\n",
              "      <td>NaN</td>\n",
              "      <td>NaN</td>\n",
              "      <td>NaN</td>\n",
              "      <td>NaN</td>\n",
              "      <td>NaN</td>\n",
              "      <td>NaN</td>\n",
              "      <td>NaN</td>\n",
              "      <td>NaN</td>\n",
              "      <td>NaN</td>\n",
              "      <td>NaN</td>\n",
              "      <td>NaN</td>\n",
              "      <td>NaN</td>\n",
              "      <td>5.3375</td>\n",
              "      <td>11.3034</td>\n",
              "      <td>4.6488</td>\n",
              "      <td>-10.6147</td>\n",
              "      <td>0.0</td>\n",
              "      <td>0.0</td>\n",
              "      <td>1.0</td>\n",
              "      <td>1.0</td>\n",
              "      <td>1.0</td>\n",
              "    </tr>\n",
              "    <tr>\n",
              "      <th>3628</th>\n",
              "      <td>227454.0</td>\n",
              "      <td>New</td>\n",
              "      <td>Purchase</td>\n",
              "      <td>2017-04-10 10:57:06.527</td>\n",
              "      <td>More than 1 year</td>\n",
              "      <td>Construction, Building &amp; Architecture</td>\n",
              "      <td>5000.0</td>\n",
              "      <td>2500.0</td>\n",
              "      <td>2500.0</td>\n",
              "      <td>12 months</td>\n",
              "      <td>18.0</td>\n",
              "      <td>gmail.com</td>\n",
              "      <td>Living with friends</td>\n",
              "      <td>M</td>\n",
              "      <td>Single</td>\n",
              "      <td>0</td>\n",
              "      <td>Wulagi</td>\n",
              "      <td>Northern Territory</td>\n",
              "      <td>812.0</td>\n",
              "      <td>Weekly</td>\n",
              "      <td>MACC</td>\n",
              "      <td>A5</td>\n",
              "      <td>Full time</td>\n",
              "      <td>24 months</td>\n",
              "      <td>M0</td>\n",
              "      <td>0.0</td>\n",
              "      <td>0.00</td>\n",
              "      <td>18.00</td>\n",
              "      <td>0.00</td>\n",
              "      <td>NaN</td>\n",
              "      <td>0.0</td>\n",
              "      <td>0.0</td>\n",
              "      <td>0.0</td>\n",
              "      <td>0.0</td>\n",
              "      <td>NaN</td>\n",
              "      <td>1.0</td>\n",
              "      <td>1.0</td>\n",
              "      <td>1.0</td>\n",
              "      <td>1.0</td>\n",
              "      <td>1.0</td>\n",
              "      <td>...</td>\n",
              "      <td>0.0029</td>\n",
              "      <td>0.0000</td>\n",
              "      <td>0.0000</td>\n",
              "      <td>0.0738</td>\n",
              "      <td>0.005</td>\n",
              "      <td>0.1992</td>\n",
              "      <td>0.008</td>\n",
              "      <td>0.1285</td>\n",
              "      <td>0.0000</td>\n",
              "      <td>0.0000</td>\n",
              "      <td>0.0600</td>\n",
              "      <td>0.0005</td>\n",
              "      <td>1.8782</td>\n",
              "      <td>0.0000</td>\n",
              "      <td>0.091</td>\n",
              "      <td>0.0000</td>\n",
              "      <td>0.0</td>\n",
              "      <td>0.0000</td>\n",
              "      <td>0.0275</td>\n",
              "      <td>0.0055</td>\n",
              "      <td>0.0000</td>\n",
              "      <td>0.000</td>\n",
              "      <td>0.1387</td>\n",
              "      <td>0.0095</td>\n",
              "      <td>0.3742</td>\n",
              "      <td>0.015</td>\n",
              "      <td>0.2413</td>\n",
              "      <td>0.0000</td>\n",
              "      <td>0.0000</td>\n",
              "      <td>0.1127</td>\n",
              "      <td>0.0011</td>\n",
              "      <td>22.9044</td>\n",
              "      <td>1.5137</td>\n",
              "      <td>9.1960</td>\n",
              "      <td>12.1945</td>\n",
              "      <td>6.0</td>\n",
              "      <td>0.0</td>\n",
              "      <td>1.0</td>\n",
              "      <td>1.0</td>\n",
              "      <td>1.0</td>\n",
              "    </tr>\n",
              "    <tr>\n",
              "      <th>8776</th>\n",
              "      <td>252898.0</td>\n",
              "      <td>New</td>\n",
              "      <td>Home appliances or furniture</td>\n",
              "      <td>2017-07-13 11:43:22.737</td>\n",
              "      <td>More than 1 year</td>\n",
              "      <td>Medical &amp; Healthcare</td>\n",
              "      <td>10000.0</td>\n",
              "      <td>5500.0</td>\n",
              "      <td>5500.0</td>\n",
              "      <td>30 months</td>\n",
              "      <td>51.0</td>\n",
              "      <td>bigpond.com</td>\n",
              "      <td>Rent</td>\n",
              "      <td>F</td>\n",
              "      <td>Married</td>\n",
              "      <td>2</td>\n",
              "      <td>North Willoughby</td>\n",
              "      <td>New South Wales</td>\n",
              "      <td>2068.0</td>\n",
              "      <td>Fortnightly</td>\n",
              "      <td>PL</td>\n",
              "      <td>A5</td>\n",
              "      <td>Part time</td>\n",
              "      <td>36 months</td>\n",
              "      <td>NaN</td>\n",
              "      <td>0.0</td>\n",
              "      <td>178.91</td>\n",
              "      <td>611.88</td>\n",
              "      <td>36.87</td>\n",
              "      <td>17.1</td>\n",
              "      <td>0.0</td>\n",
              "      <td>NaN</td>\n",
              "      <td>0.0</td>\n",
              "      <td>0.0</td>\n",
              "      <td>NaN</td>\n",
              "      <td>3.0</td>\n",
              "      <td>3.0</td>\n",
              "      <td>3.0</td>\n",
              "      <td>4.0</td>\n",
              "      <td>8.0</td>\n",
              "      <td>...</td>\n",
              "      <td>0.0000</td>\n",
              "      <td>0.0005</td>\n",
              "      <td>0.0000</td>\n",
              "      <td>0.4123</td>\n",
              "      <td>0.000</td>\n",
              "      <td>0.2548</td>\n",
              "      <td>0.000</td>\n",
              "      <td>0.0614</td>\n",
              "      <td>0.0680</td>\n",
              "      <td>0.0023</td>\n",
              "      <td>0.0469</td>\n",
              "      <td>0.0081</td>\n",
              "      <td>1.8362</td>\n",
              "      <td>0.8867</td>\n",
              "      <td>0.000</td>\n",
              "      <td>0.0000</td>\n",
              "      <td>0.0</td>\n",
              "      <td>0.5198</td>\n",
              "      <td>0.0000</td>\n",
              "      <td>0.0000</td>\n",
              "      <td>0.0014</td>\n",
              "      <td>0.000</td>\n",
              "      <td>1.1228</td>\n",
              "      <td>0.0000</td>\n",
              "      <td>0.6938</td>\n",
              "      <td>0.000</td>\n",
              "      <td>0.1673</td>\n",
              "      <td>0.1852</td>\n",
              "      <td>0.0064</td>\n",
              "      <td>0.1277</td>\n",
              "      <td>0.0223</td>\n",
              "      <td>14.3624</td>\n",
              "      <td>2.7420</td>\n",
              "      <td>6.3457</td>\n",
              "      <td>5.2745</td>\n",
              "      <td>0.0</td>\n",
              "      <td>0.0</td>\n",
              "      <td>1.0</td>\n",
              "      <td>1.0</td>\n",
              "      <td>1.0</td>\n",
              "    </tr>\n",
              "    <tr>\n",
              "      <th>3298</th>\n",
              "      <td>217968.0</td>\n",
              "      <td>New</td>\n",
              "      <td>Home appliances or furniture</td>\n",
              "      <td>2017-03-07 14:07:22.653</td>\n",
              "      <td>More than 1 year</td>\n",
              "      <td>Mining, Oil &amp; Gas</td>\n",
              "      <td>4100.0</td>\n",
              "      <td>4100.0</td>\n",
              "      <td>4100.0</td>\n",
              "      <td>24 months</td>\n",
              "      <td>59.0</td>\n",
              "      <td>bigpond.com</td>\n",
              "      <td>Own</td>\n",
              "      <td>M</td>\n",
              "      <td>Married</td>\n",
              "      <td>0</td>\n",
              "      <td>ROXBY DOWNS</td>\n",
              "      <td>South Australia</td>\n",
              "      <td>5725.0</td>\n",
              "      <td>Monthly</td>\n",
              "      <td>MACC</td>\n",
              "      <td>A4</td>\n",
              "      <td>Full time</td>\n",
              "      <td>24 months</td>\n",
              "      <td>M3</td>\n",
              "      <td>0.0</td>\n",
              "      <td>390.00</td>\n",
              "      <td>59.00</td>\n",
              "      <td>11.00</td>\n",
              "      <td>16.0</td>\n",
              "      <td>0.0</td>\n",
              "      <td>0.0</td>\n",
              "      <td>0.0</td>\n",
              "      <td>0.0</td>\n",
              "      <td>NaN</td>\n",
              "      <td>5.0</td>\n",
              "      <td>5.0</td>\n",
              "      <td>5.0</td>\n",
              "      <td>14.0</td>\n",
              "      <td>26.0</td>\n",
              "      <td>...</td>\n",
              "      <td>NaN</td>\n",
              "      <td>NaN</td>\n",
              "      <td>NaN</td>\n",
              "      <td>NaN</td>\n",
              "      <td>NaN</td>\n",
              "      <td>NaN</td>\n",
              "      <td>NaN</td>\n",
              "      <td>NaN</td>\n",
              "      <td>NaN</td>\n",
              "      <td>NaN</td>\n",
              "      <td>NaN</td>\n",
              "      <td>NaN</td>\n",
              "      <td>NaN</td>\n",
              "      <td>NaN</td>\n",
              "      <td>NaN</td>\n",
              "      <td>NaN</td>\n",
              "      <td>NaN</td>\n",
              "      <td>NaN</td>\n",
              "      <td>NaN</td>\n",
              "      <td>NaN</td>\n",
              "      <td>NaN</td>\n",
              "      <td>NaN</td>\n",
              "      <td>NaN</td>\n",
              "      <td>NaN</td>\n",
              "      <td>NaN</td>\n",
              "      <td>NaN</td>\n",
              "      <td>NaN</td>\n",
              "      <td>NaN</td>\n",
              "      <td>NaN</td>\n",
              "      <td>NaN</td>\n",
              "      <td>NaN</td>\n",
              "      <td>0.0000</td>\n",
              "      <td>21.7306</td>\n",
              "      <td>6.6580</td>\n",
              "      <td>-28.3887</td>\n",
              "      <td>42.0</td>\n",
              "      <td>0.0</td>\n",
              "      <td>1.0</td>\n",
              "      <td>1.0</td>\n",
              "      <td>1.0</td>\n",
              "    </tr>\n",
              "    <tr>\n",
              "      <th>4041</th>\n",
              "      <td>220433.0</td>\n",
              "      <td>New</td>\n",
              "      <td>Professional services (e.g. lawyer, accountant)</td>\n",
              "      <td>2017-03-15 14:35:47.513</td>\n",
              "      <td>More than 1 year</td>\n",
              "      <td>Accounting</td>\n",
              "      <td>3000.0</td>\n",
              "      <td>3000.0</td>\n",
              "      <td>3000.0</td>\n",
              "      <td>24 months</td>\n",
              "      <td>52.0</td>\n",
              "      <td>gmail.com</td>\n",
              "      <td>Rent</td>\n",
              "      <td>F</td>\n",
              "      <td>Single</td>\n",
              "      <td>1</td>\n",
              "      <td>Dungog</td>\n",
              "      <td>New South Wales</td>\n",
              "      <td>2420.0</td>\n",
              "      <td>Weekly</td>\n",
              "      <td>MACC</td>\n",
              "      <td>A3</td>\n",
              "      <td>Full time</td>\n",
              "      <td>24 months</td>\n",
              "      <td>M0</td>\n",
              "      <td>0.0</td>\n",
              "      <td>392.00</td>\n",
              "      <td>52.00</td>\n",
              "      <td>2.00</td>\n",
              "      <td>17.0</td>\n",
              "      <td>0.0</td>\n",
              "      <td>0.0</td>\n",
              "      <td>0.0</td>\n",
              "      <td>0.0</td>\n",
              "      <td>NaN</td>\n",
              "      <td>1.0</td>\n",
              "      <td>2.0</td>\n",
              "      <td>3.0</td>\n",
              "      <td>3.0</td>\n",
              "      <td>13.0</td>\n",
              "      <td>...</td>\n",
              "      <td>0.0000</td>\n",
              "      <td>0.0000</td>\n",
              "      <td>0.0962</td>\n",
              "      <td>0.1679</td>\n",
              "      <td>0.000</td>\n",
              "      <td>0.0806</td>\n",
              "      <td>0.000</td>\n",
              "      <td>0.0000</td>\n",
              "      <td>0.0000</td>\n",
              "      <td>0.0000</td>\n",
              "      <td>0.0000</td>\n",
              "      <td>0.0000</td>\n",
              "      <td>2.6061</td>\n",
              "      <td>0.3334</td>\n",
              "      <td>0.000</td>\n",
              "      <td>0.8584</td>\n",
              "      <td>0.0</td>\n",
              "      <td>0.0000</td>\n",
              "      <td>0.8439</td>\n",
              "      <td>0.0000</td>\n",
              "      <td>0.0000</td>\n",
              "      <td>0.283</td>\n",
              "      <td>0.4937</td>\n",
              "      <td>0.0000</td>\n",
              "      <td>0.2372</td>\n",
              "      <td>0.000</td>\n",
              "      <td>0.0000</td>\n",
              "      <td>0.0000</td>\n",
              "      <td>0.0000</td>\n",
              "      <td>0.0000</td>\n",
              "      <td>0.0000</td>\n",
              "      <td>31.8507</td>\n",
              "      <td>18.4453</td>\n",
              "      <td>2.5702</td>\n",
              "      <td>10.8351</td>\n",
              "      <td>6.0</td>\n",
              "      <td>0.0</td>\n",
              "      <td>1.0</td>\n",
              "      <td>1.0</td>\n",
              "      <td>1.0</td>\n",
              "    </tr>\n",
              "  </tbody>\n",
              "</table>\n",
              "<p>5 rows × 216 columns</p>\n",
              "</div>"
            ],
            "text/plain": [
              "      CustomerID LoanType  ... Inrange Hasjson\n",
              "5991    177118.0   Repeat  ...     1.0     1.0\n",
              "3628    227454.0      New  ...     1.0     1.0\n",
              "8776    252898.0      New  ...     1.0     1.0\n",
              "3298    217968.0      New  ...     1.0     1.0\n",
              "4041    220433.0      New  ...     1.0     1.0\n",
              "\n",
              "[5 rows x 216 columns]"
            ]
          },
          "metadata": {},
          "execution_count": 84
        }
      ]
    },
    {
      "cell_type": "markdown",
      "metadata": {
        "id": "fVZklEKD7Bu6"
      },
      "source": [
        "# Отступ ⬇"
      ]
    },
    {
      "cell_type": "markdown",
      "metadata": {
        "id": "CiVTJZW47CCv"
      },
      "source": [
        "# Отспуп ⬆"
      ]
    },
    {
      "cell_type": "code",
      "metadata": {
        "colab": {
          "base_uri": "https://localhost:8080/"
        },
        "id": "8QTUJlEmZYMe",
        "scrolled": false,
        "outputId": "176f2dce-b106-4a43-c364-8dd03ce39c99"
      },
      "source": [
        "X.info()"
      ],
      "execution_count": null,
      "outputs": [
        {
          "output_type": "stream",
          "name": "stdout",
          "text": [
            "<class 'pandas.core.frame.DataFrame'>\n",
            "RangeIndex: 12982 entries, 0 to 12981\n",
            "Columns: 216 entries, CustomerID to Hasjson\n",
            "dtypes: float64(194), object(22)\n",
            "memory usage: 21.4+ MB\n"
          ]
        }
      ]
    },
    {
      "cell_type": "code",
      "metadata": {
        "colab": {
          "base_uri": "https://localhost:8080/"
        },
        "id": "yvIh8KslZYMf",
        "scrolled": true,
        "outputId": "73a41942-80a1-4e67-8c1d-ec591fc5dc3d"
      },
      "source": [
        "features = X.columns.values\n",
        "features.shape[0]"
      ],
      "execution_count": null,
      "outputs": [
        {
          "output_type": "execute_result",
          "data": {
            "text/plain": [
              "216"
            ]
          },
          "metadata": {},
          "execution_count": 86
        }
      ]
    },
    {
      "cell_type": "markdown",
      "metadata": {
        "id": "W3mQrzFRZYMf"
      },
      "source": [
        "Видно, что признаков очень много, но возникает ощущение, что далеко не все из них полезны"
      ]
    },
    {
      "cell_type": "code",
      "metadata": {
        "id": "fLWf8JHaDMAf"
      },
      "source": [
        "X = X.drop(index=X[X.isna().sum(axis=1) >= 100].index)"
      ],
      "execution_count": null,
      "outputs": []
    },
    {
      "cell_type": "code",
      "metadata": {
        "id": "ByTGeBg0ZYMg"
      },
      "source": [
        "#X = df1.drop(\"Isdefault\", axis=1)\n",
        "#y = df1[\"Isdefault\"]"
      ],
      "execution_count": null,
      "outputs": []
    },
    {
      "cell_type": "code",
      "metadata": {
        "id": "PXtPSVvEZYMg"
      },
      "source": [
        "#y = y.iloc[:-2].astype(int)\n",
        "X = X.iloc[:-2, :]"
      ],
      "execution_count": null,
      "outputs": []
    },
    {
      "cell_type": "code",
      "metadata": {
        "colab": {
          "base_uri": "https://localhost:8080/"
        },
        "id": "zidpAz2_ZYMi",
        "outputId": "cbdd7e72-d0a0-444f-9e89-ccd01a7711da"
      },
      "source": [
        "print(\"Столбец количество пропусков количество уникальных значений\")\n",
        "for col in X:\n",
        "    print(col, X[col].isna().sum(), X[col].nunique())"
      ],
      "execution_count": null,
      "outputs": [
        {
          "output_type": "stream",
          "name": "stdout",
          "text": [
            "Столбец количество пропусков количество уникальных значений\n",
            "CustomerID 0 12279\n",
            "LoanType 0 2\n",
            "Reason 0 894\n",
            "Application.Date 0 12957\n",
            "Employment.Length 47 3\n",
            "Employment.Sector 57 26\n",
            "RequestedAmount 0 95\n",
            "OfferedAmount 0 86\n",
            "FundedAmount 0 87\n",
            "Duration 0 34\n",
            "Age 0 48\n",
            "EmailDomain 0 555\n",
            "Residential.Status 7 3\n",
            "Sex 0 2\n",
            "Marital.Status 136 3\n",
            "Dependents 136 4\n",
            "City 2 4177\n",
            "State 0 9\n",
            "PostalCode 0 1569\n",
            "Pay.Frequency 0 3\n",
            "Product 0 2\n",
            "Risk.Rating 0 7\n",
            "Employment.Type 0 5\n",
            "Requested.Duration 0 39\n",
            "ArrearsLevel 5889 4\n",
            "IsWrittenOff 0 2\n",
            "age.of.file 150 2686\n",
            "age.of.subject 150 2614\n",
            "time.at.address 150 1756\n",
            "time.at.employer 1106 908\n",
            "defaults 150 3\n",
            "total.value.of.outstanding.defaults 2971 259\n",
            "defaults.paid 150 3\n",
            "defaults.12 150 3\n",
            "time.since.last.default 12348 128\n",
            "credit.enquiries.1 150 9\n",
            "credit.enquiries.3 150 17\n",
            "credit.enquiries.6 150 21\n",
            "credit.enquiries.12 150 28\n",
            "credit.enquiries.60 150 50\n",
            "time.since.last.enquiry 673 902\n",
            "telco.and.utility.defaults 150 3\n",
            "telco.and.utility.defaults.12 150 3\n",
            "telco.and.utility.enquiries 150 12\n",
            "telco.and.utility.enquiries.6 150 5\n",
            "telco.and.utility.enquiries.12 150 6\n",
            "directorships.current 150 7\n",
            "directorships.previous 150 8\n",
            "adverse.on.file 150 4\n",
            "applicant.odds 150 936\n",
            "veda.score 106 684\n",
            "contributing.factors 150 517\n",
            "Wages_num 12959 0\n",
            "Centrelink_num 9341 53\n",
            "SACC_num 6169 13\n",
            "NonSACC_num 4675 22\n",
            "DebtConsolidation_num 11892 28\n",
            "DebtCollection_num 12573 18\n",
            "Rent_num 7683 57\n",
            "Overdrawn_num 6505 85\n",
            "Uncategorised_Debits_num 7992 117\n",
            "Other_Debits_num 4347 154\n",
            "All_Other_Credits_num 250 359\n",
            "Utilities_num 7394 41\n",
            "ATM_num 297 163\n",
            "Gambling_num 8653 176\n",
            "Groceries_num 5755 169\n",
            "Insurance_num 9269 44\n",
            "Subscription_TV 9841 19\n",
            "Telecommunications_num 6492 80\n",
            "Transport_num 9224 118\n",
            "Dishonours_num 7790 36\n",
            "Tax_num 11524 27\n",
            "currentBalance_All 1 12666\n",
            "availableBalance_All 1 11141\n",
            "openingBalance_All 1 12528\n",
            "totalCredits_All 1 12926\n",
            "totalDebits_All 1 12938\n",
            "closingBalance_All 1 12676\n",
            "daysInNegative_All 1 271\n",
            "currentBalance_CC 8355 4386\n",
            "availableBalance_CC 8355 3262\n",
            "openingBalance_CC 8355 4246\n",
            "totalCredits_CC 8355 3302\n",
            "totalDebits_CC 8355 4380\n",
            "currentBalance_PL 10373 2556\n",
            "availableBalance_PL 10373 472\n",
            "openingBalance_PL 10373 2329\n",
            "totalCredits_PL 10373 1880\n",
            "totalDebits_PL 10373 2549\n",
            "currentBalance_Tran 747 11077\n",
            "availableBalance_Tran 747 9700\n",
            "openingBalance_Tran 747 11081\n",
            "totalCredits_Tran 747 11944\n",
            "totalDebits_Tran 747 11959\n",
            "closingBalance_Tran 747 11081\n",
            "daysInNegative_Tran 747 225\n",
            "totalTX_All 5 973\n",
            "totalCR_All 5 354\n",
            "totalDR_All 5 786\n",
            "totalCRvalue_All 5 12926\n",
            "totalDRvalue_All 5 12933\n",
            "maxCRvalue_All 5 9258\n",
            "minCRvalue_All 5 1207\n",
            "maxDRvalue_All 5 3923\n",
            "minDRvalue_All 5 351\n",
            "minBalance_All 5 11574\n",
            "maxBalance_All 5 12737\n",
            "totalTX_CC 8522 364\n",
            "totalCR_CC 8522 108\n",
            "totalDR_CC 8522 335\n",
            "totalCRvalue_CC 8522 3302\n",
            "totalDRvalue_CC 8522 4371\n",
            "maxCRvalue_CC 8522 1221\n",
            "minCRvalue_CC 8522 924\n",
            "maxDRvalue_CC 8522 2800\n",
            "minDRvalue_CC 8522 887\n",
            "minBalance_CC 8522 4367\n",
            "maxBalance_CC 8522 4230\n",
            "totalCRvalue_PL 10394 1880\n",
            "totalDRvalue_PL 10394 2544\n",
            "maxCRvalue_PL 10394 1063\n",
            "minCRvalue_PL 10394 960\n",
            "maxDRvalue_PL 10394 2025\n",
            "minDRvalue_PL 10394 262\n",
            "minBalance_PL 10394 2504\n",
            "maxBalance_PL 10394 2381\n",
            "totalCRvalue_Tran 902 11944\n",
            "totalDRvalue_Tran 902 11938\n",
            "maxCRvalue_Tran 902 8318\n",
            "minCRvalue_Tran 902 1221\n",
            "maxDRvalue_Tran 902 3469\n",
            "minDRvalue_Tran 902 442\n",
            "minBalance_Tran 902 9630\n",
            "maxBalance_Tran 902 11751\n",
            "EntropyText 0 12957\n",
            "TDatePart 0 12955\n",
            "EntropyDate 0 12954\n",
            "Salary 0 2246\n",
            "Rent 0 791\n",
            "LoanCommitments 0 862\n",
            "LivingExpenses 0 333\n",
            "Wages 0 11490\n",
            "Centrelink 0 2445\n",
            "SaccLoans 0 4575\n",
            "NonSaccLoans 0 6100\n",
            "DebtConsolidation 0 714\n",
            "DebtCollection 0 214\n",
            "Rent1 0 2631\n",
            "OverdrawnFees 0 804\n",
            "UncategorisedDebits 0 3597\n",
            "OtherDebits 0 6570\n",
            "AllOtherCredits 0 12150\n",
            "Utilities 0 3871\n",
            "AtmWithdrawals 0 7965\n",
            "Gambling 0 2292\n",
            "Groceries 0 6867\n",
            "Insurance 0 2745\n",
            "SubscriptionTv 0 1041\n",
            "Telecommunications 0 4379\n",
            "Transport 0 3113\n",
            "OnGoingSaccCount 0 8\n",
            "DishounorIn90Days 0 15\n",
            "Income 0 11251\n",
            "NonDiscretionarySpending 0 10495\n",
            "DiscretionarySpending 0 10388\n",
            "RepaymentCapacity 0 12865\n",
            "RepaymentFromRequested 0 7209\n",
            "ExcessCapacity 0 12880\n",
            "RepaymentsRatio 0 10135\n",
            "Centrelink_wages_ratio 963 1774\n",
            "SaccLoans_wages_ratio 963 2633\n",
            "NonSaccLoans_wages_ratio 963 3061\n",
            "DebtConsolidation_wages_ratio 963 645\n",
            "DebtCollection_wages_ratio 963 240\n",
            "Rent1_wages_ratio 963 4445\n",
            "OverdrawnFees_wages_ratio 963 445\n",
            "UncategorisedDebits_wages_ratio 963 2086\n",
            "OtherDebits_wages_ratio 963 2938\n",
            "AllOtherCredits_wages_ratio 963 8862\n",
            "Utilities_wages_ratio 963 1256\n",
            "AtmWithdrawals_wages_ratio 963 3902\n",
            "Gambling_wages_ratio 963 1089\n",
            "Groceries_wages_ratio 963 2022\n",
            "Insurance_wages_ratio 963 1001\n",
            "SubscriptionTv_wages_ratio 963 500\n",
            "Telecommunications_wages_ratio 963 1452\n",
            "Transport_wages_ratio 963 576\n",
            "Wages_repaymentcapacity_ratio 2401 9192\n",
            "Centrelink_repaymentcapacity_ratio 2401 2054\n",
            "SaccLoans_repaymentcapacity_ratio 2401 3601\n",
            "NonSaccLoans_repaymentcapacity_ratio 2401 4289\n",
            "DebtConsolidation_repaymentcapacity_ratio 2401 750\n",
            "DebtCollection_repaymentcapacity_ratio 2401 259\n",
            "Rent1_repaymentcapacity_ratio 2401 6036\n",
            "OverdrawnFees_repaymentcapacity_ratio 2401 740\n",
            "UncategorisedDebits_repaymentcapacity_ratio 2401 2667\n",
            "OtherDebits_repaymentcapacity_ratio 2401 4022\n",
            "AllOtherCredits_repaymentcapacity_ratio 2401 9086\n",
            "Utilities_repaymentcapacity_ratio 2401 2181\n",
            "AtmWithdrawals_repaymentcapacity_ratio 2401 5728\n",
            "Gambling_repaymentcapacity_ratio 2401 1387\n",
            "Groceries_repaymentcapacity_ratio 2401 3265\n",
            "Insurance_repaymentcapacity_ratio 2401 1551\n",
            "SubscriptionTv_repaymentcapacity_ratio 2401 795\n",
            "Telecommunications_repaymentcapacity_ratio 2401 2676\n",
            "Transport_repaymentcapacity_ratio 2401 949\n",
            "Income_MonthlyRepayments_ratio 96 11648\n",
            "NonDiscretionarySpending_MonthlyRepayments_ratio 96 11852\n",
            "DiscretionarySpending_MonthlyRepayments_ratio 96 11605\n",
            "RepaymentCapacity_MonthlyRepayments_ratio 96 12451\n",
            "MaxCdia 0 148\n",
            "Isdefault 0 2\n",
            "Isapproved 0 1\n",
            "Inrange 0 1\n",
            "Hasjson 0 1\n"
          ]
        }
      ]
    },
    {
      "cell_type": "markdown",
      "metadata": {
        "id": "vACjIqCGQEhj"
      },
      "source": [
        "#### ***Видно***, что всякие признаки, названия которых оканчиваются на num, CC, PL, Tran и ratio имеют непривлекательно много пропусков, к тому же, для CC, PL, Tran префиксы совпадают для признаков, оканчивающихся на All, так что возможно, что это по сути одно и то же, просто с разных сторон. Для All очень мало пропусков, так что сначала мы и возьмем в нашу модель"
      ]
    },
    {
      "cell_type": "code",
      "metadata": {
        "id": "tLkHB5TjTlfw"
      },
      "source": [
        "bad_features = []\n",
        "for col_name in X.columns:\n",
        "    if (col_name.endswith(\"num\") or col_name.endswith(\"_CC\") or col_name.endswith(\"_PL\") or \n",
        "        col_name.endswith(\"_Tran\") or col_name.endswith(\"_ratio\")):\n",
        "        bad_features.append(col_name)\n",
        "X.drop(columns=bad_features, inplace=True)"
      ],
      "execution_count": null,
      "outputs": []
    },
    {
      "cell_type": "markdown",
      "metadata": {
        "id": "MyLlvwLWa-0B"
      },
      "source": [
        "## Мое предположение, что от адреса электронной почты, postal code и applycationDate таргет слабо зависит, можно их дропнуть(сделаем из даты 2 новых столбца - год и месяц), а так же удалим признаки, способствующих переобучению (по заявлению автора статьи) IsWrittenOff, MaxCdia, а так же последние три признака - у них всего 1 уникальное значение, это ни о чем не скажет нашей модели\n",
        "\n",
        "## Второе замечание - уникальных ID всего 12300, надо с ними разобраться.."
      ]
    },
    {
      "cell_type": "code",
      "metadata": {
        "id": "91TLL-tQ_BCw"
      },
      "source": [
        "X['Year'] = X['Application.Date'].apply(lambda x : int(x[:4]))\n",
        "X['Month'] = X['Application.Date'].apply(lambda x : int(x[5:7]))\n",
        "X.drop(\"Application.Date\", axis=1, inplace=True)"
      ],
      "execution_count": null,
      "outputs": []
    },
    {
      "cell_type": "code",
      "metadata": {
        "id": "sFGLQeM6Z5tu"
      },
      "source": [
        "X.drop(columns=[\"PostalCode\", \"contributing.factors\", \"TDatePart\",\"time.since.last.default\", \n",
        "                \"IsWrittenOff\", \"MaxCdia\", \"Isapproved\", \"Inrange\", \"Hasjson\"], inplace=True)"
      ],
      "execution_count": null,
      "outputs": []
    },
    {
      "cell_type": "markdown",
      "metadata": {
        "id": "M4Znb7j0OKVQ"
      },
      "source": [
        "Теперь нам предстоит работа с пропусками - попробуем по максимуму разобраться и адекватно заполнить пропуски - потому что тут есть столбцы с вполне понятными заменами для NaN "
      ]
    },
    {
      "cell_type": "code",
      "metadata": {
        "id": "rg7IV3xEOZWB"
      },
      "source": [
        "# этот код показывает, сколько будет пропусков в каждом столбце (числовом), если в нем убрать строки с NaN'овыми age.of.file\n",
        "# аналогично можно поступить с окончанием ratio и All \n",
        "# в итоге, мы потеряем около 1100 строк (для ratio можно просто удалить все эти столбцы..)\n",
        "\n",
        "# это основано на том, что эти столбцы идут пачками, если в строке NaN в age.of.file, то в этой же строке NaN и в age.of.subject, и в других соседних\n",
        "bad_cols = []\n",
        "for col in X.select_dtypes(include='number').columns.values:\n",
        "    number_of_nans = X.loc[X[X[\"age.of.file\"].notna()].index][col].isna().sum()\n",
        "    if number_of_nans > 0:\n",
        "        bad_cols.append((col, number_of_nans))\n",
        " "
      ],
      "execution_count": null,
      "outputs": []
    },
    {
      "cell_type": "code",
      "metadata": {
        "colab": {
          "base_uri": "https://localhost:8080/"
        },
        "id": "xyBV_tyqwUsi",
        "outputId": "9697ab98-e56c-4621-9fab-6991fb8c4609"
      },
      "source": [
        "# Посмотрим, что за столбцы, и сколько в них пропусков:\n",
        "bad_cols"
      ],
      "execution_count": null,
      "outputs": [
        {
          "output_type": "execute_result",
          "data": {
            "text/plain": [
              "[('time.at.employer', 956),\n",
              " ('total.value.of.outstanding.defaults', 2821),\n",
              " ('time.since.last.enquiry', 523),\n",
              " ('Subscription_TV', 9735),\n",
              " ('currentBalance_All', 1),\n",
              " ('availableBalance_All', 1),\n",
              " ('openingBalance_All', 1),\n",
              " ('totalCredits_All', 1),\n",
              " ('totalDebits_All', 1),\n",
              " ('closingBalance_All', 1),\n",
              " ('daysInNegative_All', 1),\n",
              " ('totalTX_All', 5),\n",
              " ('totalCR_All', 5),\n",
              " ('totalDR_All', 5),\n",
              " ('totalCRvalue_All', 5),\n",
              " ('totalDRvalue_All', 5),\n",
              " ('maxCRvalue_All', 5),\n",
              " ('minCRvalue_All', 5),\n",
              " ('maxDRvalue_All', 5),\n",
              " ('minDRvalue_All', 5),\n",
              " ('minBalance_All', 5),\n",
              " ('maxBalance_All', 5)]"
            ]
          },
          "metadata": {},
          "execution_count": 95
        }
      ]
    },
    {
      "cell_type": "code",
      "metadata": {
        "id": "geeycUNCzPsT"
      },
      "source": [
        "# удалим каскадно те самые 5 строчек, где проблема у стоблцов, оканчивающихся на _All, \n",
        "# все остальные заполним нулями\n",
        "X.drop(index=X[X[\"age.of.file\"].isna()].index, inplace=True)\n",
        "#y.drop(index=X[X[\"age.of.file\"].isna()].index, inplace=True)\n",
        "X.drop(index=X[X[\"totalCR_All\"].isna()].index, inplace=True)\n",
        "#y.drop(index=X[X[\"totalCR_All\"].isna()].index, inplace=True)"
      ],
      "execution_count": null,
      "outputs": []
    },
    {
      "cell_type": "markdown",
      "metadata": {
        "id": "MXGLDugd3eFU"
      },
      "source": [
        "Прогоним еще раз, чтобы получить столбцы, которые мы заполним нулями:"
      ]
    },
    {
      "cell_type": "code",
      "metadata": {
        "id": "wZmacD541h1x"
      },
      "source": [
        "bad_cols_2 = []\n",
        "for col in X.select_dtypes(include='number').columns.values:\n",
        "    number_of_nans = X[col].isna().sum()\n",
        "    if number_of_nans > 0:\n",
        "        bad_cols_2.append(col)\n",
        "for col_name in bad_cols_2:\n",
        "    X[col_name].fillna(0, inplace=True)"
      ],
      "execution_count": null,
      "outputs": []
    },
    {
      "cell_type": "markdown",
      "metadata": {
        "id": "wmzCRYvL4ZIn"
      },
      "source": [
        "Готово, теперь разберемся с категориальными данными:"
      ]
    },
    {
      "cell_type": "code",
      "metadata": {
        "id": "Q9cz4m8h33tX"
      },
      "source": [
        "import re\n",
        "\n",
        "def func(List, data):\n",
        "  data = str(data)\n",
        "  data = re.sub(r'\\s*\\([^()]*\\)\\s*', '', data)\n",
        "  data = data.split(\",\")\n",
        "  for item in data:\n",
        "    for reason in List:\n",
        "      if item == reason:\n",
        "        return item\n",
        "  return \"other\"     \n",
        "\n",
        "Set = set()\n",
        "Dict = dict()\n",
        "for data in X[\"Reason\"]:\n",
        "  data = str(data)\n",
        "  data = re.sub(r'\\s*\\([^()]*\\)\\s*', '', data)\n",
        "  data = data.split(\",\")\n",
        "  for item in data:\n",
        "    if item in Set:\n",
        "      Dict[item] += 1\n",
        "    else:\n",
        "      Set.add(item)\n",
        "      Dict[item] = 1\n",
        "sorted_dict = {}\n",
        "sorted_keys = sorted(Dict, key=Dict.get)  \n",
        "List = list()\n",
        "for i in range(20):\n",
        "  List.append(sorted_keys.pop())\n",
        "X[\"Reason\"] = X[\"Reason\"].apply(lambda x: func(List, x))"
      ],
      "execution_count": null,
      "outputs": []
    },
    {
      "cell_type": "code",
      "metadata": {
        "id": "HQXgZXtu4fN9"
      },
      "source": [
        "def func(List, data):\n",
        "  data = str(data)\n",
        "  for item in List:\n",
        "    if data == item:\n",
        "      return data\n",
        "  return \"other\"\n",
        "\n",
        "Set = set()\n",
        "Dict = dict()\n",
        "for data in X[\"City\"]:\n",
        "  data = str(data)\n",
        "  if data in Set:\n",
        "    Dict[data] += 1\n",
        "  else:\n",
        "    Set.add(data)\n",
        "    Dict[data] = 1\n",
        "sorted_keys = sorted(Dict, key=Dict.get) \n",
        "List = list()\n",
        "for i in range(20):\n",
        "  List.append(sorted_keys.pop())\n",
        "X[\"City\"] = X[\"City\"].apply(lambda x: func(List, x))\n"
      ],
      "execution_count": null,
      "outputs": []
    },
    {
      "cell_type": "code",
      "metadata": {
        "id": "NZ2rSd2U5PH_"
      },
      "source": [
        "\n",
        "def func(List, data):\n",
        "  data = str(data)\n",
        "  for item in List:\n",
        "    if data == item:\n",
        "      return data\n",
        "  return \"other\"\n",
        "\n",
        "Set = set()\n",
        "Dict = dict()\n",
        "for data in X[\"EmailDomain\"]:\n",
        "  data = str(data)\n",
        "  if data in Set:\n",
        "    Dict[data] += 1\n",
        "  else:\n",
        "    Set.add(data)\n",
        "    Dict[data] = 1\n",
        "sorted_keys = sorted(Dict, key=Dict.get) \n",
        "List = list()\n",
        "for i in range(20):\n",
        "  List.append(sorted_keys.pop())\n",
        "X[\"EmailDomain\"] = X[\"EmailDomain\"].apply(lambda x: func(List, x))\n"
      ],
      "execution_count": null,
      "outputs": []
    },
    {
      "cell_type": "code",
      "metadata": {
        "id": "QG3aqw7O5Uxg"
      },
      "source": [
        "def func(data):\n",
        "  if len(data)>2 and data[2] == '+':\n",
        "    return int(data[1:2])\n",
        "  else:\n",
        "    return int(data[1:])\n",
        "X[\"Risk.Rating\"] = X[\"Risk.Rating\"].apply(lambda x: func(x))"
      ],
      "execution_count": null,
      "outputs": []
    },
    {
      "cell_type": "code",
      "metadata": {
        "id": "wZ85czow5aBC"
      },
      "source": [
        "X[\"Duration\"] = X[\"Duration\"].apply(lambda x: int(x.split()[0]))\n",
        "X[\"Requested.Duration\"] = X[\"Requested.Duration\"].apply(lambda x: int(x.split()[0]))\n"
      ],
      "execution_count": null,
      "outputs": []
    },
    {
      "cell_type": "code",
      "metadata": {
        "id": "weQQoHXY5kKK"
      },
      "source": [
        "#print(\"Столбец количество пропусков количество уникальных значений после обработки\")\n",
        "#for col in X:\n",
        "#    print(col, X[col].isna().sum(), X[col].nunique())\n",
        "# Последний штрих:\n",
        "to_fill = [\"Employment.Length\", \"Employment.Sector\", \"Residential.Status\"]\n",
        "to_delete_indexes = [\"Marital.Status\", \"Dependents\"]\n",
        "to_delete_col = \"ArrearsLevel\""
      ],
      "execution_count": null,
      "outputs": []
    },
    {
      "cell_type": "code",
      "metadata": {
        "id": "PAd8XTAK7IRC"
      },
      "source": [
        ""
      ],
      "execution_count": null,
      "outputs": []
    },
    {
      "cell_type": "code",
      "metadata": {
        "id": "B3p1ms-s6y0V"
      },
      "source": [
        "X[to_fill[0]].fillna(\"3 months to 1 year\", inplace=True)\n",
        "X[to_fill[0]].fillna(\"Construction, Building & Architecture\", inplace=True)\n",
        "X[to_fill[0]].fillna(\"Rent\", inplace=True)"
      ],
      "execution_count": null,
      "outputs": []
    },
    {
      "cell_type": "code",
      "metadata": {
        "id": "CwrGn1lw824g"
      },
      "source": [
        "X.drop(index=X[X[to_delete_indexes[0]].isna()].index, inplace=True)\n",
        "#y.drop(index=X[X[to_delete_indexes[0]].isna()].index, inplace=True)"
      ],
      "execution_count": null,
      "outputs": []
    },
    {
      "cell_type": "code",
      "metadata": {
        "id": "B4KqyFFE9Rcu"
      },
      "source": [
        "X.drop(columns=[to_delete_col,\"CustomerID\"], inplace=True)"
      ],
      "execution_count": null,
      "outputs": []
    },
    {
      "cell_type": "code",
      "metadata": {
        "colab": {
          "base_uri": "https://localhost:8080/"
        },
        "id": "g1sGz16U9YY4",
        "outputId": "a7188730-ba40-46b8-961c-588ad33224fc"
      },
      "source": [
        "print(\"Столбец количество пропусков количество уникальных значений после обработки\")\n",
        "for col in X:\n",
        "    print(col, X[col].isna().sum(), X[col].nunique())"
      ],
      "execution_count": null,
      "outputs": [
        {
          "output_type": "stream",
          "name": "stdout",
          "text": [
            "Столбец количество пропусков количество уникальных значений после обработки\n",
            "LoanType 0 2\n",
            "Reason 0 20\n",
            "Employment.Length 0 3\n",
            "Employment.Sector 57 26\n",
            "RequestedAmount 0 95\n",
            "OfferedAmount 0 86\n",
            "FundedAmount 0 87\n",
            "Duration 0 34\n",
            "Age 0 48\n",
            "EmailDomain 0 21\n",
            "Residential.Status 7 3\n",
            "Sex 0 2\n",
            "Marital.Status 0 3\n",
            "Dependents 0 4\n",
            "City 0 21\n",
            "State 0 8\n",
            "Pay.Frequency 0 3\n",
            "Product 0 2\n",
            "Risk.Rating 0 6\n",
            "Employment.Type 0 5\n",
            "Requested.Duration 0 35\n",
            "age.of.file 0 2673\n",
            "age.of.subject 0 2598\n",
            "time.at.address 0 1748\n",
            "time.at.employer 0 902\n",
            "defaults 0 3\n",
            "total.value.of.outstanding.defaults 0 257\n",
            "defaults.paid 0 3\n",
            "defaults.12 0 3\n",
            "credit.enquiries.1 0 9\n",
            "credit.enquiries.3 0 17\n",
            "credit.enquiries.6 0 21\n",
            "credit.enquiries.12 0 28\n",
            "credit.enquiries.60 0 50\n",
            "time.since.last.enquiry 0 894\n",
            "telco.and.utility.defaults 0 3\n",
            "telco.and.utility.defaults.12 0 3\n",
            "telco.and.utility.enquiries 0 12\n",
            "telco.and.utility.enquiries.6 0 5\n",
            "telco.and.utility.enquiries.12 0 6\n",
            "directorships.current 0 7\n",
            "directorships.previous 0 8\n",
            "adverse.on.file 0 4\n",
            "applicant.odds 0 935\n",
            "veda.score 0 683\n",
            "Subscription_TV 0 19\n",
            "currentBalance_All 0 12384\n",
            "availableBalance_All 0 10895\n",
            "openingBalance_All 0 12251\n",
            "totalCredits_All 0 12643\n",
            "totalDebits_All 0 12656\n",
            "closingBalance_All 0 12394\n",
            "daysInNegative_All 0 271\n",
            "totalTX_All 0 967\n",
            "totalCR_All 0 352\n",
            "totalDR_All 0 784\n",
            "totalCRvalue_All 0 12643\n",
            "totalDRvalue_All 0 12651\n",
            "maxCRvalue_All 0 9071\n",
            "minCRvalue_All 0 1190\n",
            "maxDRvalue_All 0 3837\n",
            "minDRvalue_All 0 350\n",
            "minBalance_All 0 11332\n",
            "maxBalance_All 0 12459\n",
            "EntropyText 0 12668\n",
            "EntropyDate 0 12665\n",
            "Salary 0 2215\n",
            "Rent 0 781\n",
            "LoanCommitments 0 848\n",
            "LivingExpenses 0 328\n",
            "Wages 0 11236\n",
            "Centrelink 0 2397\n",
            "SaccLoans 0 4483\n",
            "NonSaccLoans 0 5961\n",
            "DebtConsolidation 0 704\n",
            "DebtCollection 0 209\n",
            "Rent1 0 2588\n",
            "OverdrawnFees 0 792\n",
            "UncategorisedDebits 0 3509\n",
            "OtherDebits 0 6419\n",
            "AllOtherCredits 0 11883\n",
            "Utilities 0 3788\n",
            "AtmWithdrawals 0 7794\n",
            "Gambling 0 2251\n",
            "Groceries 0 6701\n",
            "Insurance 0 2671\n",
            "SubscriptionTv 0 1012\n",
            "Telecommunications 0 4282\n",
            "Transport 0 3029\n",
            "OnGoingSaccCount 0 8\n",
            "DishounorIn90Days 0 15\n",
            "Income 0 11008\n",
            "NonDiscretionarySpending 0 10258\n",
            "DiscretionarySpending 0 10154\n",
            "RepaymentCapacity 0 12579\n",
            "RepaymentFromRequested 0 7106\n",
            "ExcessCapacity 0 12593\n",
            "RepaymentsRatio 0 9913\n",
            "Isdefault 0 2\n",
            "Year 0 2\n",
            "Month 0 12\n"
          ]
        }
      ]
    },
    {
      "cell_type": "markdown",
      "metadata": {
        "id": "1_AeT535qqKO"
      },
      "source": [
        "## Итоги: \n",
        "\n",
        "### Мы максимально почистили датасет, при чем нам пришлось срезать как немного признаков, так и немного объектов, но мы надеемся, что это не сильно скажется на обучении наших моделей."
      ]
    },
    {
      "cell_type": "code",
      "metadata": {
        "id": "Sury2RuMEde1"
      },
      "source": [
        "y = X[\"Isdefault\"]\n",
        "X = X.drop(\"Isdefault\", axis=1)"
      ],
      "execution_count": null,
      "outputs": []
    },
    {
      "cell_type": "code",
      "metadata": {
        "colab": {
          "base_uri": "https://localhost:8080/",
          "height": 325
        },
        "id": "6FgdwhTJRPL7",
        "outputId": "ed79002d-62a0-4b32-8d86-54e65515e38e"
      },
      "source": [
        "X.head()"
      ],
      "execution_count": null,
      "outputs": [
        {
          "output_type": "execute_result",
          "data": {
            "text/html": [
              "<div>\n",
              "<style scoped>\n",
              "    .dataframe tbody tr th:only-of-type {\n",
              "        vertical-align: middle;\n",
              "    }\n",
              "\n",
              "    .dataframe tbody tr th {\n",
              "        vertical-align: top;\n",
              "    }\n",
              "\n",
              "    .dataframe thead th {\n",
              "        text-align: right;\n",
              "    }\n",
              "</style>\n",
              "<table border=\"1\" class=\"dataframe\">\n",
              "  <thead>\n",
              "    <tr style=\"text-align: right;\">\n",
              "      <th></th>\n",
              "      <th>LoanType</th>\n",
              "      <th>Reason</th>\n",
              "      <th>Employment.Length</th>\n",
              "      <th>Employment.Sector</th>\n",
              "      <th>RequestedAmount</th>\n",
              "      <th>OfferedAmount</th>\n",
              "      <th>FundedAmount</th>\n",
              "      <th>Duration</th>\n",
              "      <th>Age</th>\n",
              "      <th>EmailDomain</th>\n",
              "      <th>Residential.Status</th>\n",
              "      <th>Sex</th>\n",
              "      <th>Marital.Status</th>\n",
              "      <th>Dependents</th>\n",
              "      <th>City</th>\n",
              "      <th>State</th>\n",
              "      <th>Pay.Frequency</th>\n",
              "      <th>Product</th>\n",
              "      <th>Risk.Rating</th>\n",
              "      <th>Employment.Type</th>\n",
              "      <th>Requested.Duration</th>\n",
              "      <th>age.of.file</th>\n",
              "      <th>age.of.subject</th>\n",
              "      <th>time.at.address</th>\n",
              "      <th>time.at.employer</th>\n",
              "      <th>defaults</th>\n",
              "      <th>total.value.of.outstanding.defaults</th>\n",
              "      <th>defaults.paid</th>\n",
              "      <th>defaults.12</th>\n",
              "      <th>credit.enquiries.1</th>\n",
              "      <th>credit.enquiries.3</th>\n",
              "      <th>credit.enquiries.6</th>\n",
              "      <th>credit.enquiries.12</th>\n",
              "      <th>credit.enquiries.60</th>\n",
              "      <th>time.since.last.enquiry</th>\n",
              "      <th>telco.and.utility.defaults</th>\n",
              "      <th>telco.and.utility.defaults.12</th>\n",
              "      <th>telco.and.utility.enquiries</th>\n",
              "      <th>telco.and.utility.enquiries.6</th>\n",
              "      <th>telco.and.utility.enquiries.12</th>\n",
              "      <th>...</th>\n",
              "      <th>maxDRvalue_All</th>\n",
              "      <th>minDRvalue_All</th>\n",
              "      <th>minBalance_All</th>\n",
              "      <th>maxBalance_All</th>\n",
              "      <th>EntropyText</th>\n",
              "      <th>EntropyDate</th>\n",
              "      <th>Salary</th>\n",
              "      <th>Rent</th>\n",
              "      <th>LoanCommitments</th>\n",
              "      <th>LivingExpenses</th>\n",
              "      <th>Wages</th>\n",
              "      <th>Centrelink</th>\n",
              "      <th>SaccLoans</th>\n",
              "      <th>NonSaccLoans</th>\n",
              "      <th>DebtConsolidation</th>\n",
              "      <th>DebtCollection</th>\n",
              "      <th>Rent1</th>\n",
              "      <th>OverdrawnFees</th>\n",
              "      <th>UncategorisedDebits</th>\n",
              "      <th>OtherDebits</th>\n",
              "      <th>AllOtherCredits</th>\n",
              "      <th>Utilities</th>\n",
              "      <th>AtmWithdrawals</th>\n",
              "      <th>Gambling</th>\n",
              "      <th>Groceries</th>\n",
              "      <th>Insurance</th>\n",
              "      <th>SubscriptionTv</th>\n",
              "      <th>Telecommunications</th>\n",
              "      <th>Transport</th>\n",
              "      <th>OnGoingSaccCount</th>\n",
              "      <th>DishounorIn90Days</th>\n",
              "      <th>Income</th>\n",
              "      <th>NonDiscretionarySpending</th>\n",
              "      <th>DiscretionarySpending</th>\n",
              "      <th>RepaymentCapacity</th>\n",
              "      <th>RepaymentFromRequested</th>\n",
              "      <th>ExcessCapacity</th>\n",
              "      <th>RepaymentsRatio</th>\n",
              "      <th>Year</th>\n",
              "      <th>Month</th>\n",
              "    </tr>\n",
              "  </thead>\n",
              "  <tbody>\n",
              "    <tr>\n",
              "      <th>0</th>\n",
              "      <td>New</td>\n",
              "      <td>other</td>\n",
              "      <td>More than 1 year</td>\n",
              "      <td>Customer Service &amp; Call Center</td>\n",
              "      <td>2500.0</td>\n",
              "      <td>2500.0</td>\n",
              "      <td>2500.0</td>\n",
              "      <td>12</td>\n",
              "      <td>21.0</td>\n",
              "      <td>live.com.au</td>\n",
              "      <td>Rent</td>\n",
              "      <td>F</td>\n",
              "      <td>Married</td>\n",
              "      <td>0</td>\n",
              "      <td>other</td>\n",
              "      <td>New South Wales</td>\n",
              "      <td>Fortnightly</td>\n",
              "      <td>MACC</td>\n",
              "      <td>5</td>\n",
              "      <td>Full time</td>\n",
              "      <td>24</td>\n",
              "      <td>46.0</td>\n",
              "      <td>21.0</td>\n",
              "      <td>8.0</td>\n",
              "      <td>0.0</td>\n",
              "      <td>1.0</td>\n",
              "      <td>698.0</td>\n",
              "      <td>0.0</td>\n",
              "      <td>1.0</td>\n",
              "      <td>2.0</td>\n",
              "      <td>4.0</td>\n",
              "      <td>5.0</td>\n",
              "      <td>7.0</td>\n",
              "      <td>19.0</td>\n",
              "      <td>0.0</td>\n",
              "      <td>1.0</td>\n",
              "      <td>1.0</td>\n",
              "      <td>2.0</td>\n",
              "      <td>0.0</td>\n",
              "      <td>0.0</td>\n",
              "      <td>...</td>\n",
              "      <td>-725.2</td>\n",
              "      <td>-1.00</td>\n",
              "      <td>1.00</td>\n",
              "      <td>1697.19</td>\n",
              "      <td>6.193471</td>\n",
              "      <td>2.405919</td>\n",
              "      <td>16801.0</td>\n",
              "      <td>700.0</td>\n",
              "      <td>836.0</td>\n",
              "      <td>500.0</td>\n",
              "      <td>-0.005</td>\n",
              "      <td>0.00</td>\n",
              "      <td>0.0000</td>\n",
              "      <td>30.2037</td>\n",
              "      <td>0.0</td>\n",
              "      <td>0.0</td>\n",
              "      <td>700.0</td>\n",
              "      <td>0.0</td>\n",
              "      <td>0.0000</td>\n",
              "      <td>312.2203</td>\n",
              "      <td>15.5462</td>\n",
              "      <td>0.000</td>\n",
              "      <td>0.0000</td>\n",
              "      <td>0.0</td>\n",
              "      <td>0.0000</td>\n",
              "      <td>0.0000</td>\n",
              "      <td>0.0000</td>\n",
              "      <td>0.0000</td>\n",
              "      <td>0.0000</td>\n",
              "      <td>0.0</td>\n",
              "      <td>0.0</td>\n",
              "      <td>-0.005</td>\n",
              "      <td>1536.0000</td>\n",
              "      <td>500.0000</td>\n",
              "      <td>-2036.0050</td>\n",
              "      <td>161.71</td>\n",
              "      <td>-2197.715</td>\n",
              "      <td>0.0000</td>\n",
              "      <td>2016</td>\n",
              "      <td>11</td>\n",
              "    </tr>\n",
              "    <tr>\n",
              "      <th>1</th>\n",
              "      <td>Repeat</td>\n",
              "      <td>other</td>\n",
              "      <td>More than 1 year</td>\n",
              "      <td>Government &amp; Defence</td>\n",
              "      <td>5500.0</td>\n",
              "      <td>3000.0</td>\n",
              "      <td>3000.0</td>\n",
              "      <td>24</td>\n",
              "      <td>26.0</td>\n",
              "      <td>hotmail.com</td>\n",
              "      <td>Rent</td>\n",
              "      <td>M</td>\n",
              "      <td>Married</td>\n",
              "      <td>2</td>\n",
              "      <td>other</td>\n",
              "      <td>Victoria</td>\n",
              "      <td>Fortnightly</td>\n",
              "      <td>MACC</td>\n",
              "      <td>3</td>\n",
              "      <td>Full time</td>\n",
              "      <td>24</td>\n",
              "      <td>82.0</td>\n",
              "      <td>25.0</td>\n",
              "      <td>20.0</td>\n",
              "      <td>20.0</td>\n",
              "      <td>0.0</td>\n",
              "      <td>0.0</td>\n",
              "      <td>0.0</td>\n",
              "      <td>0.0</td>\n",
              "      <td>1.0</td>\n",
              "      <td>1.0</td>\n",
              "      <td>1.0</td>\n",
              "      <td>3.0</td>\n",
              "      <td>12.0</td>\n",
              "      <td>7.0</td>\n",
              "      <td>0.0</td>\n",
              "      <td>0.0</td>\n",
              "      <td>0.0</td>\n",
              "      <td>0.0</td>\n",
              "      <td>0.0</td>\n",
              "      <td>...</td>\n",
              "      <td>-2340.5</td>\n",
              "      <td>-1.00</td>\n",
              "      <td>-916.77</td>\n",
              "      <td>6078.60</td>\n",
              "      <td>7.458622</td>\n",
              "      <td>2.252031</td>\n",
              "      <td>2200.0</td>\n",
              "      <td>1000.0</td>\n",
              "      <td>40.0</td>\n",
              "      <td>1000.0</td>\n",
              "      <td>3145.460</td>\n",
              "      <td>2170.89</td>\n",
              "      <td>790.1979</td>\n",
              "      <td>200.2498</td>\n",
              "      <td>0.0</td>\n",
              "      <td>0.0</td>\n",
              "      <td>1000.0</td>\n",
              "      <td>0.0</td>\n",
              "      <td>407.6374</td>\n",
              "      <td>527.9387</td>\n",
              "      <td>3994.2321</td>\n",
              "      <td>209.199</td>\n",
              "      <td>155.4629</td>\n",
              "      <td>0.0</td>\n",
              "      <td>573.8661</td>\n",
              "      <td>120.3012</td>\n",
              "      <td>188.1473</td>\n",
              "      <td>297.3398</td>\n",
              "      <td>6.3165</td>\n",
              "      <td>2.0</td>\n",
              "      <td>0.0</td>\n",
              "      <td>5316.350</td>\n",
              "      <td>1990.4477</td>\n",
              "      <td>1550.6332</td>\n",
              "      <td>1775.2690</td>\n",
              "      <td>303.80</td>\n",
              "      <td>1471.469</td>\n",
              "      <td>17.1128</td>\n",
              "      <td>2016</td>\n",
              "      <td>11</td>\n",
              "    </tr>\n",
              "    <tr>\n",
              "      <th>2</th>\n",
              "      <td>New</td>\n",
              "      <td>other</td>\n",
              "      <td>More than 1 year</td>\n",
              "      <td>Logistics, Transport &amp; Supply</td>\n",
              "      <td>6300.0</td>\n",
              "      <td>6300.0</td>\n",
              "      <td>6300.0</td>\n",
              "      <td>30</td>\n",
              "      <td>37.0</td>\n",
              "      <td>gmail.com</td>\n",
              "      <td>Rent</td>\n",
              "      <td>M</td>\n",
              "      <td>Married</td>\n",
              "      <td>0</td>\n",
              "      <td>other</td>\n",
              "      <td>New South Wales</td>\n",
              "      <td>Fortnightly</td>\n",
              "      <td>PL</td>\n",
              "      <td>4</td>\n",
              "      <td>Full time</td>\n",
              "      <td>36</td>\n",
              "      <td>243.0</td>\n",
              "      <td>37.0</td>\n",
              "      <td>29.0</td>\n",
              "      <td>2.0</td>\n",
              "      <td>0.0</td>\n",
              "      <td>0.0</td>\n",
              "      <td>0.0</td>\n",
              "      <td>0.0</td>\n",
              "      <td>1.0</td>\n",
              "      <td>3.0</td>\n",
              "      <td>4.0</td>\n",
              "      <td>4.0</td>\n",
              "      <td>19.0</td>\n",
              "      <td>2.0</td>\n",
              "      <td>0.0</td>\n",
              "      <td>0.0</td>\n",
              "      <td>2.0</td>\n",
              "      <td>0.0</td>\n",
              "      <td>0.0</td>\n",
              "      <td>...</td>\n",
              "      <td>-500.0</td>\n",
              "      <td>-0.01</td>\n",
              "      <td>-36.20</td>\n",
              "      <td>2458.65</td>\n",
              "      <td>6.653219</td>\n",
              "      <td>2.646279</td>\n",
              "      <td>2526.0</td>\n",
              "      <td>340.0</td>\n",
              "      <td>325.0</td>\n",
              "      <td>370.0</td>\n",
              "      <td>0.000</td>\n",
              "      <td>0.00</td>\n",
              "      <td>0.0000</td>\n",
              "      <td>0.0000</td>\n",
              "      <td>0.0</td>\n",
              "      <td>0.0</td>\n",
              "      <td>0.0</td>\n",
              "      <td>0.0</td>\n",
              "      <td>0.0000</td>\n",
              "      <td>0.0000</td>\n",
              "      <td>0.0000</td>\n",
              "      <td>0.000</td>\n",
              "      <td>0.0000</td>\n",
              "      <td>0.0</td>\n",
              "      <td>0.0000</td>\n",
              "      <td>0.0000</td>\n",
              "      <td>0.0000</td>\n",
              "      <td>0.0000</td>\n",
              "      <td>0.0000</td>\n",
              "      <td>0.0</td>\n",
              "      <td>0.0</td>\n",
              "      <td>0.000</td>\n",
              "      <td>0.0000</td>\n",
              "      <td>0.0000</td>\n",
              "      <td>0.0000</td>\n",
              "      <td>0.00</td>\n",
              "      <td>0.000</td>\n",
              "      <td>0.0000</td>\n",
              "      <td>2016</td>\n",
              "      <td>11</td>\n",
              "    </tr>\n",
              "    <tr>\n",
              "      <th>4</th>\n",
              "      <td>Repeat</td>\n",
              "      <td>other</td>\n",
              "      <td>3 months to 1 year</td>\n",
              "      <td>Other</td>\n",
              "      <td>4500.0</td>\n",
              "      <td>2500.0</td>\n",
              "      <td>2500.0</td>\n",
              "      <td>13</td>\n",
              "      <td>30.0</td>\n",
              "      <td>outlook.com</td>\n",
              "      <td>Living with friends</td>\n",
              "      <td>F</td>\n",
              "      <td>Married</td>\n",
              "      <td>1</td>\n",
              "      <td>other</td>\n",
              "      <td>Northern Territory</td>\n",
              "      <td>Fortnightly</td>\n",
              "      <td>MACC</td>\n",
              "      <td>5</td>\n",
              "      <td>Part time</td>\n",
              "      <td>13</td>\n",
              "      <td>17.0</td>\n",
              "      <td>30.0</td>\n",
              "      <td>17.0</td>\n",
              "      <td>1.0</td>\n",
              "      <td>0.0</td>\n",
              "      <td>0.0</td>\n",
              "      <td>0.0</td>\n",
              "      <td>0.0</td>\n",
              "      <td>1.0</td>\n",
              "      <td>3.0</td>\n",
              "      <td>4.0</td>\n",
              "      <td>4.0</td>\n",
              "      <td>6.0</td>\n",
              "      <td>1.0</td>\n",
              "      <td>0.0</td>\n",
              "      <td>0.0</td>\n",
              "      <td>0.0</td>\n",
              "      <td>0.0</td>\n",
              "      <td>0.0</td>\n",
              "      <td>...</td>\n",
              "      <td>-200.0</td>\n",
              "      <td>-0.01</td>\n",
              "      <td>-3.70</td>\n",
              "      <td>334.43</td>\n",
              "      <td>5.667073</td>\n",
              "      <td>1.543058</td>\n",
              "      <td>819.0</td>\n",
              "      <td>0.0</td>\n",
              "      <td>0.0</td>\n",
              "      <td>300.0</td>\n",
              "      <td>-0.005</td>\n",
              "      <td>238.14</td>\n",
              "      <td>0.0000</td>\n",
              "      <td>0.0000</td>\n",
              "      <td>0.0</td>\n",
              "      <td>0.0</td>\n",
              "      <td>0.0</td>\n",
              "      <td>0.0</td>\n",
              "      <td>0.0000</td>\n",
              "      <td>0.0000</td>\n",
              "      <td>437.6654</td>\n",
              "      <td>0.000</td>\n",
              "      <td>209.5370</td>\n",
              "      <td>0.0</td>\n",
              "      <td>0.0000</td>\n",
              "      <td>0.0000</td>\n",
              "      <td>0.0000</td>\n",
              "      <td>0.0000</td>\n",
              "      <td>0.0000</td>\n",
              "      <td>0.0</td>\n",
              "      <td>0.0</td>\n",
              "      <td>238.135</td>\n",
              "      <td>0.0000</td>\n",
              "      <td>209.5370</td>\n",
              "      <td>28.5979</td>\n",
              "      <td>440.92</td>\n",
              "      <td>-412.322</td>\n",
              "      <td>0.0000</td>\n",
              "      <td>2016</td>\n",
              "      <td>11</td>\n",
              "    </tr>\n",
              "    <tr>\n",
              "      <th>5</th>\n",
              "      <td>New</td>\n",
              "      <td>other</td>\n",
              "      <td>More than 1 year</td>\n",
              "      <td>NaN</td>\n",
              "      <td>3500.0</td>\n",
              "      <td>3500.0</td>\n",
              "      <td>3500.0</td>\n",
              "      <td>18</td>\n",
              "      <td>49.0</td>\n",
              "      <td>hotmail.com</td>\n",
              "      <td>Own</td>\n",
              "      <td>F</td>\n",
              "      <td>Married</td>\n",
              "      <td>0</td>\n",
              "      <td>other</td>\n",
              "      <td>Queensland</td>\n",
              "      <td>Fortnightly</td>\n",
              "      <td>MACC</td>\n",
              "      <td>4</td>\n",
              "      <td>Part time</td>\n",
              "      <td>18</td>\n",
              "      <td>229.0</td>\n",
              "      <td>49.0</td>\n",
              "      <td>0.0</td>\n",
              "      <td>4.0</td>\n",
              "      <td>0.0</td>\n",
              "      <td>0.0</td>\n",
              "      <td>0.0</td>\n",
              "      <td>0.0</td>\n",
              "      <td>1.0</td>\n",
              "      <td>2.0</td>\n",
              "      <td>4.0</td>\n",
              "      <td>5.0</td>\n",
              "      <td>21.0</td>\n",
              "      <td>1.0</td>\n",
              "      <td>0.0</td>\n",
              "      <td>0.0</td>\n",
              "      <td>1.0</td>\n",
              "      <td>0.0</td>\n",
              "      <td>0.0</td>\n",
              "      <td>...</td>\n",
              "      <td>-1000.0</td>\n",
              "      <td>-13.31</td>\n",
              "      <td>200.50</td>\n",
              "      <td>1430.42</td>\n",
              "      <td>4.713893</td>\n",
              "      <td>1.826245</td>\n",
              "      <td>1120.0</td>\n",
              "      <td>200.0</td>\n",
              "      <td>0.0</td>\n",
              "      <td>500.0</td>\n",
              "      <td>0.000</td>\n",
              "      <td>0.00</td>\n",
              "      <td>0.0000</td>\n",
              "      <td>0.0000</td>\n",
              "      <td>0.0</td>\n",
              "      <td>0.0</td>\n",
              "      <td>0.0</td>\n",
              "      <td>0.0</td>\n",
              "      <td>0.0000</td>\n",
              "      <td>0.0000</td>\n",
              "      <td>0.0000</td>\n",
              "      <td>0.000</td>\n",
              "      <td>0.0000</td>\n",
              "      <td>0.0</td>\n",
              "      <td>0.0000</td>\n",
              "      <td>0.0000</td>\n",
              "      <td>0.0000</td>\n",
              "      <td>0.0000</td>\n",
              "      <td>0.0000</td>\n",
              "      <td>0.0</td>\n",
              "      <td>0.0</td>\n",
              "      <td>0.000</td>\n",
              "      <td>0.0000</td>\n",
              "      <td>0.0000</td>\n",
              "      <td>0.0000</td>\n",
              "      <td>0.00</td>\n",
              "      <td>0.000</td>\n",
              "      <td>0.0000</td>\n",
              "      <td>2016</td>\n",
              "      <td>11</td>\n",
              "    </tr>\n",
              "  </tbody>\n",
              "</table>\n",
              "<p>5 rows × 100 columns</p>\n",
              "</div>"
            ],
            "text/plain": [
              "  LoanType Reason   Employment.Length  ... RepaymentsRatio  Year  Month\n",
              "0      New  other    More than 1 year  ...          0.0000  2016     11\n",
              "1   Repeat  other    More than 1 year  ...         17.1128  2016     11\n",
              "2      New  other    More than 1 year  ...          0.0000  2016     11\n",
              "4   Repeat  other  3 months to 1 year  ...          0.0000  2016     11\n",
              "5      New  other    More than 1 year  ...          0.0000  2016     11\n",
              "\n",
              "[5 rows x 100 columns]"
            ]
          },
          "metadata": {},
          "execution_count": 109
        }
      ]
    },
    {
      "cell_type": "code",
      "metadata": {
        "id": "CtBSwaQlZYMk",
        "colab": {
          "base_uri": "https://localhost:8080/"
        },
        "outputId": "ce81a658-d7d6-46b8-8495-f04c78d77169"
      },
      "source": [
        "pip install lightgbm"
      ],
      "execution_count": null,
      "outputs": [
        {
          "output_type": "stream",
          "name": "stdout",
          "text": [
            "Requirement already satisfied: lightgbm in /usr/local/lib/python3.7/dist-packages (2.2.3)\n",
            "Requirement already satisfied: scipy in /usr/local/lib/python3.7/dist-packages (from lightgbm) (1.4.1)\n",
            "Requirement already satisfied: numpy in /usr/local/lib/python3.7/dist-packages (from lightgbm) (1.19.5)\n",
            "Requirement already satisfied: scikit-learn in /usr/local/lib/python3.7/dist-packages (from lightgbm) (1.0.1)\n",
            "Requirement already satisfied: joblib>=0.11 in /usr/local/lib/python3.7/dist-packages (from scikit-learn->lightgbm) (1.1.0)\n",
            "Requirement already satisfied: threadpoolctl>=2.0.0 in /usr/local/lib/python3.7/dist-packages (from scikit-learn->lightgbm) (3.0.0)\n"
          ]
        }
      ]
    },
    {
      "cell_type": "code",
      "metadata": {
        "id": "vA2PDISMZYMl",
        "colab": {
          "base_uri": "https://localhost:8080/"
        },
        "outputId": "8a07cf9f-2f66-4ceb-d56a-2f9d9d29f1cc"
      },
      "source": [
        "pip install catboost"
      ],
      "execution_count": null,
      "outputs": [
        {
          "output_type": "stream",
          "name": "stdout",
          "text": [
            "Requirement already satisfied: catboost in /usr/local/lib/python3.7/dist-packages (1.0.3)\n",
            "Requirement already satisfied: numpy>=1.16.0 in /usr/local/lib/python3.7/dist-packages (from catboost) (1.19.5)\n",
            "Requirement already satisfied: graphviz in /usr/local/lib/python3.7/dist-packages (from catboost) (0.10.1)\n",
            "Requirement already satisfied: pandas>=0.24.0 in /usr/local/lib/python3.7/dist-packages (from catboost) (1.1.5)\n",
            "Requirement already satisfied: six in /usr/local/lib/python3.7/dist-packages (from catboost) (1.15.0)\n",
            "Requirement already satisfied: scipy in /usr/local/lib/python3.7/dist-packages (from catboost) (1.4.1)\n",
            "Requirement already satisfied: plotly in /usr/local/lib/python3.7/dist-packages (from catboost) (4.4.1)\n",
            "Requirement already satisfied: matplotlib in /usr/local/lib/python3.7/dist-packages (from catboost) (3.2.2)\n",
            "Requirement already satisfied: python-dateutil>=2.7.3 in /usr/local/lib/python3.7/dist-packages (from pandas>=0.24.0->catboost) (2.8.2)\n",
            "Requirement already satisfied: pytz>=2017.2 in /usr/local/lib/python3.7/dist-packages (from pandas>=0.24.0->catboost) (2018.9)\n",
            "Requirement already satisfied: pyparsing!=2.0.4,!=2.1.2,!=2.1.6,>=2.0.1 in /usr/local/lib/python3.7/dist-packages (from matplotlib->catboost) (2.4.7)\n",
            "Requirement already satisfied: kiwisolver>=1.0.1 in /usr/local/lib/python3.7/dist-packages (from matplotlib->catboost) (1.3.2)\n",
            "Requirement already satisfied: cycler>=0.10 in /usr/local/lib/python3.7/dist-packages (from matplotlib->catboost) (0.11.0)\n",
            "Requirement already satisfied: retrying>=1.3.3 in /usr/local/lib/python3.7/dist-packages (from plotly->catboost) (1.3.3)\n"
          ]
        }
      ]
    },
    {
      "cell_type": "code",
      "metadata": {
        "id": "mySjcDxjZYMl",
        "colab": {
          "base_uri": "https://localhost:8080/"
        },
        "outputId": "863d0285-c6ea-4d5b-ad97-d154333df922"
      },
      "source": [
        "pip install xgboost"
      ],
      "execution_count": null,
      "outputs": [
        {
          "output_type": "stream",
          "name": "stdout",
          "text": [
            "Requirement already satisfied: xgboost in /usr/local/lib/python3.7/dist-packages (0.90)\n",
            "Requirement already satisfied: numpy in /usr/local/lib/python3.7/dist-packages (from xgboost) (1.19.5)\n",
            "Requirement already satisfied: scipy in /usr/local/lib/python3.7/dist-packages (from xgboost) (1.4.1)\n"
          ]
        }
      ]
    },
    {
      "cell_type": "code",
      "metadata": {
        "id": "tvuHVUK8ZYMl",
        "colab": {
          "base_uri": "https://localhost:8080/"
        },
        "outputId": "6b49b9f4-36ca-485d-f9a7-bc96644ff974"
      },
      "source": [
        "pip install -U KTBoost"
      ],
      "execution_count": null,
      "outputs": [
        {
          "output_type": "stream",
          "name": "stdout",
          "text": [
            "Requirement already satisfied: KTBoost in /usr/local/lib/python3.7/dist-packages (0.2.0)\n",
            "Requirement already satisfied: bottleneck in /usr/local/lib/python3.7/dist-packages (from KTBoost) (1.3.2)\n",
            "Requirement already satisfied: matplotlib in /usr/local/lib/python3.7/dist-packages (from KTBoost) (3.2.2)\n",
            "Requirement already satisfied: scikit-learn>=0.24.0 in /usr/local/lib/python3.7/dist-packages (from KTBoost) (1.0.1)\n",
            "Requirement already satisfied: threadpoolctl>=2.0.0 in /usr/local/lib/python3.7/dist-packages (from scikit-learn>=0.24.0->KTBoost) (3.0.0)\n",
            "Requirement already satisfied: joblib>=0.11 in /usr/local/lib/python3.7/dist-packages (from scikit-learn>=0.24.0->KTBoost) (1.1.0)\n",
            "Requirement already satisfied: numpy>=1.14.6 in /usr/local/lib/python3.7/dist-packages (from scikit-learn>=0.24.0->KTBoost) (1.19.5)\n",
            "Requirement already satisfied: scipy>=1.1.0 in /usr/local/lib/python3.7/dist-packages (from scikit-learn>=0.24.0->KTBoost) (1.4.1)\n",
            "Requirement already satisfied: kiwisolver>=1.0.1 in /usr/local/lib/python3.7/dist-packages (from matplotlib->KTBoost) (1.3.2)\n",
            "Requirement already satisfied: cycler>=0.10 in /usr/local/lib/python3.7/dist-packages (from matplotlib->KTBoost) (0.11.0)\n",
            "Requirement already satisfied: pyparsing!=2.0.4,!=2.1.2,!=2.1.6,>=2.0.1 in /usr/local/lib/python3.7/dist-packages (from matplotlib->KTBoost) (2.4.7)\n",
            "Requirement already satisfied: python-dateutil>=2.1 in /usr/local/lib/python3.7/dist-packages (from matplotlib->KTBoost) (2.8.2)\n",
            "Requirement already satisfied: six>=1.5 in /usr/local/lib/python3.7/dist-packages (from python-dateutil>=2.1->matplotlib->KTBoost) (1.15.0)\n"
          ]
        }
      ]
    },
    {
      "cell_type": "code",
      "metadata": {
        "id": "-cHmFpSFZYMm"
      },
      "source": [
        "from lightgbm import LGBMClassifier\n",
        "from sklearn.model_selection import train_test_split, RepeatedStratifiedKFold, cross_val_score\n",
        "from sklearn.linear_model import LogisticRegression\n",
        "from sklearn.ensemble import AdaBoostClassifier, BaggingClassifier, GradientBoostingClassifier, RandomForestClassifier\n",
        "from sklearn.preprocessing import LabelEncoder, OneHotEncoder, StandardScaler\n",
        "from sklearn.metrics import plot_roc_curve, classification_report, accuracy_score, roc_auc_score\n",
        "from sklearn.compose import ColumnTransformer\n",
        "from sklearn.pipeline import Pipeline\n",
        "from catboost import CatBoostClassifier\n",
        "import xgboost as xgb\n",
        "import KTBoost.KTBoost as KTBoost"
      ],
      "execution_count": null,
      "outputs": []
    },
    {
      "cell_type": "code",
      "metadata": {
        "id": "vDc7DHGrZYMm"
      },
      "source": [
        "cv = RepeatedStratifiedKFold(n_splits=10, n_repeats=3, random_state=66)\n",
        "numeric_features = X.select_dtypes(include='number').columns\n",
        "categorical_features = X.select_dtypes(include='object').columns\n",
        "\n",
        "scaler = StandardScaler()\n",
        "encoder = LabelEncoder()\n",
        "\n",
        "ohe_cat_df = pd.get_dummies(X[categorical_features])\n",
        "X.drop(columns=categorical_features, inplace=True)\n",
        "#for column in categorical_features:\n",
        "#    X[column] = encoder.fit_transform(X[column])\n",
        "X[numeric_features] = scaler.fit_transform(X[numeric_features])\n",
        "X = X.join(ohe_cat_df)\n",
        "X_train, X_test, y_train, y_test = train_test_split(X, y, train_size=0.75, random_state=66)"
      ],
      "execution_count": null,
      "outputs": []
    },
    {
      "cell_type": "markdown",
      "metadata": {
        "id": "JPahJhVLNNSc"
      },
      "source": [
        "Feature selection below"
      ]
    },
    {
      "cell_type": "code",
      "metadata": {
        "id": "t2JdxM8zNLqN"
      },
      "source": [
        "from sklearn.linear_model import LogisticRegressionCV\n",
        "\n",
        "model = LogisticRegressionCV().fit(X, y)\n",
        "importance = np.abs(model.coef_)[0]\n",
        "feature_names = np.array(X.columns)"
      ],
      "execution_count": null,
      "outputs": []
    },
    {
      "cell_type": "code",
      "metadata": {
        "colab": {
          "base_uri": "https://localhost:8080/",
          "height": 285
        },
        "id": "6xXYj-NmSlbU",
        "outputId": "f8438250-3f2b-4d80-8b8c-47e54c262301"
      },
      "source": [
        "temp = zip(importance, feature_names)\n",
        "temp = np.array(sorted(temp, key=lambda x: x[0]))\n",
        "\n",
        "plt.bar(height=temp[-20:,0], x=temp[-20:,1])\n",
        "plt.title(\"Feature importances via coefficients\")\n",
        "plt.show()"
      ],
      "execution_count": null,
      "outputs": [
        {
          "output_type": "display_data",
          "data": {
            "image/png": "[encoded data removed]",
            "text/plain": [
              "<Figure size 432x288 with 1 Axes>"
            ]
          },
          "metadata": {}
        }
      ]
    },
    {
      "cell_type": "code",
      "metadata": {
        "id": "uxahY0JkXSs_"
      },
      "source": [
        "from sklearn.feature_selection import SelectFromModel\n",
        "from time import time\n",
        "\n",
        "threshold = sorted(importance)[100]\n",
        "\n",
        "tic = time()\n",
        "sfm = SelectFromModel(lrcv, threshold=threshold).fit(X, y)\n",
        "toc = time()\n",
        "#print(f\"Features selected by SelectFromModel: {feature_names[sfm.get_support()]}\")\n",
        "#print(f\"Done in {toc - tic:.3f}s\")"
      ],
      "execution_count": null,
      "outputs": []
    },
    {
      "cell_type": "code",
      "metadata": {
        "id": "Ct_py3QcZYMm",
        "scrolled": true
      },
      "source": [
        "#variables = feature_names[sfm.get_support()]\n",
        "#X_train = X_train.loc[:, variables]\n",
        "#X_test = X_test.loc[:, variables]"
      ],
      "execution_count": null,
      "outputs": []
    },
    {
      "cell_type": "code",
      "metadata": {
        "colab": {
          "base_uri": "https://localhost:8080/",
          "height": 341
        },
        "id": "a6USlCivZYMm",
        "scrolled": true,
        "outputId": "b2116957-f008-4808-d0dd-933a065504e3"
      },
      "source": [
        "logres = LogisticRegression()\n",
        "\n",
        "logres.fit(X_train, y_train)\n",
        "y_pred1 = logres.predict(X_test)\n",
        "print(\"Accuracy on LogisticRegression=\", accuracy_score(y_test, y_pred1))\n",
        "print(\"ROC_AUC_SCORE on LogisticRegression=\", roc_auc_score(y_test, y_pred1))\n",
        "#print(classification_report(y_test, y_pred1))\n",
        "plot_roc_curve(logres, X_test, y_test)"
      ],
      "execution_count": null,
      "outputs": [
        {
          "output_type": "stream",
          "name": "stdout",
          "text": [
            "Accuracy on LogisticRegression= 0.8301767676767676\n",
            "ROC_AUC_SCORE on LogisticRegression= 0.5336574357831392\n"
          ]
        },
        {
          "output_type": "execute_result",
          "data": {
            "text/plain": [
              "<sklearn.metrics._plot.roc_curve.RocCurveDisplay at 0x7f45712df450>"
            ]
          },
          "metadata": {},
          "execution_count": 116
        },
        {
          "output_type": "display_data",
          "data": {
            "image/png": "[encoded data removed]",
            "text/plain": [
              "<Figure size 432x288 with 1 Axes>"
            ]
          },
          "metadata": {}
        }
      ]
    },
    {
      "cell_type": "code",
      "metadata": {
        "id": "B73Kvn6_ZYMn"
      },
      "source": [
        "\"\"\"\n",
        "model = KTBoost.BoostingClassifier(loss='deviance',base_learner='combined',\n",
        "                                    update_step='newton',theta=1)\n",
        "model.fit(X_train, y_train)\n",
        "y_pred_grabit = model.predict(X_test)\n",
        "print(classification_report(y_test, y_pred_grabit))\n",
        "plot_roc_curve(model, X_test, y_test)\n",
        "\"\"\""
      ],
      "execution_count": null,
      "outputs": []
    },
    {
      "cell_type": "code",
      "metadata": {
        "id": "iNK8T0pPZYMn"
      },
      "source": [
        "\"\"\"\n",
        "model = KTBoost.BoostingClassifier(loss='deviance',update_step='gradient')\n",
        "model.fit(X_train, y_train)\n",
        "y_pred_g = model.predict(X_test)\n",
        "print(classification_report(y_test, y_pred_g))\n",
        "plot_roc_curve(model, X_test, y_test)\n",
        "\"\"\""
      ],
      "execution_count": null,
      "outputs": []
    },
    {
      "cell_type": "code",
      "metadata": {
        "id": "jwQi5_kXZYMn",
        "colab": {
          "base_uri": "https://localhost:8080/",
          "height": 341
        },
        "outputId": "bebde702-faf6-4c56-8b7f-7b3479f0f58a"
      },
      "source": [
        "AdaBoost = AdaBoostClassifier(n_estimators=100, random_state=66)\n",
        "AdaBoost.fit(X_train, y_train)\n",
        "y_pred2 = AdaBoost.predict(X_test)\n",
        "\n",
        "print(\"Accuracy on AdaBoost Classifier=\", accuracy_score(y_test, y_pred2))\n",
        "print(\"ROC_AUC_SCORE on AdaBoost Classifie=\", roc_auc_score(y_test, y_pred2))\n",
        "plot_roc_curve(AdaBoost, X_test, y_test)"
      ],
      "execution_count": null,
      "outputs": [
        {
          "output_type": "stream",
          "name": "stdout",
          "text": [
            "Accuracy on AdaBoost Classifier= 0.8295454545454546\n",
            "ROC_AUC_SCORE on AdaBoost Classifie= 0.5650247952304006\n"
          ]
        },
        {
          "output_type": "execute_result",
          "data": {
            "text/plain": [
              "<sklearn.metrics._plot.roc_curve.RocCurveDisplay at 0x7f4570bdd990>"
            ]
          },
          "metadata": {},
          "execution_count": 117
        },
        {
          "output_type": "display_data",
          "data": {
            "image/png": "[encoded data removed]",
            "text/plain": [
              "<Figure size 432x288 with 1 Axes>"
            ]
          },
          "metadata": {}
        }
      ]
    },
    {
      "cell_type": "code",
      "metadata": {
        "id": "93LAsAHtZYMn",
        "colab": {
          "base_uri": "https://localhost:8080/",
          "height": 341
        },
        "outputId": "efd40e1a-5c73-40c4-9b96-86343dff4793"
      },
      "source": [
        "GradBoost = GradientBoostingClassifier(n_estimators=100, random_state=66)\n",
        "GradBoost.fit(X_train, y_train)\n",
        "y_pred3 = GradBoost.predict(X_test)\n",
        "print(\"Accuracy with Gradient Boosting :\", accuracy_score(y_test, y_pred3))\n",
        "print(\"ROC_AUC_SCORE on Gradient Boosting=\", roc_auc_score(y_test, y_pred3))\n",
        "plot_roc_curve(GradBoost, X_test, y_test)"
      ],
      "execution_count": null,
      "outputs": [
        {
          "output_type": "stream",
          "name": "stdout",
          "text": [
            "Accuracy with Gradient Boosting : 0.8298611111111112\n",
            "ROC_AUC_SCORE on Gradient Boosting= 0.5356313032818856\n"
          ]
        },
        {
          "output_type": "execute_result",
          "data": {
            "text/plain": [
              "<sklearn.metrics._plot.roc_curve.RocCurveDisplay at 0x7f4570a5eb10>"
            ]
          },
          "metadata": {},
          "execution_count": 118
        },
        {
          "output_type": "display_data",
          "data": {
            "image/png": "[encoded data removed]",
            "text/plain": [
              "<Figure size 432x288 with 1 Axes>"
            ]
          },
          "metadata": {}
        }
      ]
    },
    {
      "cell_type": "code",
      "metadata": {
        "id": "ekqwdAY6ZYMo",
        "scrolled": true,
        "colab": {
          "base_uri": "https://localhost:8080/",
          "height": 341
        },
        "outputId": "fe3da0d6-2745-4f8b-8a2f-bd41822c4cb6"
      },
      "source": [
        "lgbm = LGBMClassifier()\n",
        "lgbm.fit(X_train, y_train)\n",
        "y_pred4 = lgbm.predict(X_test)\n",
        "print(\"Accuracy on LGBM Classifier=\", accuracy_score(y_test, y_pred4))\n",
        "print(\"ROC_AUC_SCORE on LGBM Classifier=\", roc_auc_score(y_test, y_pred4))\n",
        "plot_roc_curve(lgbm, X_test, y_test)"
      ],
      "execution_count": null,
      "outputs": [
        {
          "output_type": "stream",
          "name": "stdout",
          "text": [
            "Accuracy on LGBM Classifier= 0.827020202020202\n",
            "ROC_AUC_SCORE on LGBM Classifier= 0.5418510057391207\n"
          ]
        },
        {
          "output_type": "execute_result",
          "data": {
            "text/plain": [
              "<sklearn.metrics._plot.roc_curve.RocCurveDisplay at 0x7f45714b4bd0>"
            ]
          },
          "metadata": {},
          "execution_count": 119
        },
        {
          "output_type": "display_data",
          "data": {
            "image/png": "[encoded data removed]",
            "text/plain": [
              "<Figure size 432x288 with 1 Axes>"
            ]
          },
          "metadata": {}
        }
      ]
    },
    {
      "cell_type": "markdown",
      "metadata": {
        "id": "yPZ3e8AvZYMo"
      },
      "source": [
        "LGBM_GetLastError().decode('utf-8') - попробуй декодировать по всем столбцам и выявить плохой - и переименовать - почему то не работает"
      ]
    },
    {
      "cell_type": "code",
      "metadata": {
        "id": "maTvU694ZYMo",
        "colab": {
          "base_uri": "https://localhost:8080/",
          "height": 358
        },
        "outputId": "1dd0759e-3b18-4c70-80af-ea9561c09d9e"
      },
      "source": [
        "catBoost = CatBoostClassifier()\n",
        "catBoost.fit(X_train,y_train,verbose=False)#, plot=True)\n",
        "y_pred5 = catBoost.predict(X_test)\n",
        "print(\"Accuracy on CatBoost Classifier=\", accuracy_score(y_test, y_pred5))\n",
        "print(\"ROC_AUC_SCORE on CatBoost Classifier=\", roc_auc_score(y_test, y_pred5))\n",
        "print(\"AUC ROC on CatBoost Classifier:\") \n",
        "plot_roc_curve(catBoost, X_test, y_test)\n",
        "#catBoost.score(X_test, y_test)\n",
        "# тут походу можно просто запихать df изначальный и все скушает"
      ],
      "execution_count": null,
      "outputs": [
        {
          "output_type": "stream",
          "name": "stdout",
          "text": [
            "Accuracy on CatBoost Classifier= 0.8279671717171717\n",
            "ROC_AUC_SCORE on CatBoost Classifier= 0.5315999888560762\n",
            "AUC ROC on CatBoost Classifier:\n"
          ]
        },
        {
          "output_type": "execute_result",
          "data": {
            "text/plain": [
              "<sklearn.metrics._plot.roc_curve.RocCurveDisplay at 0x7f457125a590>"
            ]
          },
          "metadata": {},
          "execution_count": 120
        },
        {
          "output_type": "display_data",
          "data": {
            "image/png": "[encoded data removed]",
            "text/plain": [
              "<Figure size 432x288 with 1 Axes>"
            ]
          },
          "metadata": {}
        }
      ]
    },
    {
      "cell_type": "code",
      "metadata": {
        "id": "oqZ6aCM6ZYMo"
      },
      "source": [
        "\"\"\"\n",
        "# небольшой эксперимент с catboost'ом : попробую запихать туда необработанный датасет\n",
        "model_params = {\n",
        "    'iterations': 500, \n",
        "    'loss_function': 'Logloss', \n",
        "    'train_dir': 'crossentropy',\n",
        "    'allow_writing_files': False,\n",
        "    'random_seed': 66,\n",
        "}\n",
        "\n",
        "cat_clf = CatBoostClassifier(**model_params)\n",
        "\n",
        "X_ = df1.drop(\"Isdefault\", axis=1)\n",
        "y_ = df1[\"Isdefault\"]\n",
        "y_ = y.iloc[:-2].astype(int)\n",
        "X_ = X.iloc[:-2, :]\n",
        "\n",
        "X_train_, X_test_, y_train_, y_test_ = train_test_split(X_, y_, train_size=0.8, random_state=66)\n",
        "cat_clf.fit(X_train_, y_train_)\n",
        "y_pred_ = cat_clf.predict(X_test_)\n",
        "print(\"Accuracy score on raw data with CatBoost Classifier:\", accuracy_score(y_test_, y_pred_))\n",
        "print(\"Как видно, точность всё таки ниже, чем на обработанных данных => мы сделали предобработку данных неплохо\")\n",
        "\"\"\""
      ],
      "execution_count": null,
      "outputs": []
    },
    {
      "cell_type": "code",
      "metadata": {
        "id": "5iDNYZq8ZYMo",
        "colab": {
          "base_uri": "https://localhost:8080/",
          "height": 358
        },
        "outputId": "be655261-d0ec-4f24-85ef-b8263176aeb2"
      },
      "source": [
        "xg_cl = xgb.XGBClassifier(colsample_bytree = 0.3, learning_rate = 0.1,\n",
        "                max_depth = 5, alpha = 10, n_estimators = 10)\n",
        "xg_cl.fit(X_train,y_train)\n",
        "\n",
        "y_pred6 = xg_cl.predict(X_test)\n",
        "print(\"Accuracy on XGBoost Classifier =\", accuracy_score(y_test, y_pred6))\n",
        "print(\"ROC_AUC_SCORE on XGBoost Classifier=\", roc_auc_score(y_test, y_pred6))\n",
        "print(\"ROC AUC on XGBoost Classifier =\")\n",
        "plot_roc_curve(xg_cl, X_test, y_test)"
      ],
      "execution_count": null,
      "outputs": [
        {
          "output_type": "stream",
          "name": "stdout",
          "text": [
            "Accuracy on XGBoost Classifier = 0.8273358585858586\n",
            "ROC_AUC_SCORE on XGBoost Classifier= 0.5009124087591241\n",
            "ROC AUC on XGBoost Classifier =\n"
          ]
        },
        {
          "output_type": "execute_result",
          "data": {
            "text/plain": [
              "<sklearn.metrics._plot.roc_curve.RocCurveDisplay at 0x7f457087ef10>"
            ]
          },
          "metadata": {},
          "execution_count": 121
        },
        {
          "output_type": "display_data",
          "data": {
            "image/png": "[encoded data removed]",
            "text/plain": [
              "<Figure size 432x288 with 1 Axes>"
            ]
          },
          "metadata": {}
        }
      ]
    },
    {
      "cell_type": "code",
      "metadata": {
        "id": "Myim-4NVZYMp",
        "colab": {
          "base_uri": "https://localhost:8080/",
          "height": 358
        },
        "outputId": "ecdf88d5-8478-4b8b-99a4-0578cecd2d29"
      },
      "source": [
        "rf_cl = RandomForestClassifier()\n",
        "rf_cl.fit(X_train,y_train)\n",
        "\n",
        "y_pred7 = rf_cl.predict(X_test)\n",
        "print(\"Accuracy on RandomForest Classifier =\", accuracy_score(y_test, y_pred7))\n",
        "print(\"ROC_AUC_SCORE on RandomForest Classifier=\", roc_auc_score(y_test, y_pred7))\n",
        "print(\"AUC ROC on RandomForest Classifier =\")\n",
        "plot_roc_curve(rf_cl, X_test, y_test)"
      ],
      "execution_count": null,
      "outputs": [
        {
          "output_type": "stream",
          "name": "stdout",
          "text": [
            "Accuracy on RandomForest Classifier = 0.8279671717171717\n",
            "ROC_AUC_SCORE on RandomForest Classifier= 0.5077882097286454\n",
            "AUC ROC on RandomForest Classifier =\n"
          ]
        },
        {
          "output_type": "execute_result",
          "data": {
            "text/plain": [
              "<sklearn.metrics._plot.roc_curve.RocCurveDisplay at 0x7f45707f4c10>"
            ]
          },
          "metadata": {},
          "execution_count": 122
        },
        {
          "output_type": "display_data",
          "data": {
            "image/png": "[encoded data removed]",
            "text/plain": [
              "<Figure size 432x288 with 1 Axes>"
            ]
          },
          "metadata": {}
        }
      ]
    },
    {
      "cell_type": "code",
      "metadata": {
        "id": "qpfGN64tZYMp"
      },
      "source": [
        ""
      ],
      "execution_count": null,
      "outputs": []
    },
    {
      "cell_type": "code",
      "metadata": {
        "id": "aV160qAyMbRe"
      },
      "source": [
        ""
      ],
      "execution_count": null,
      "outputs": []
    },
    {
      "cell_type": "code",
      "metadata": {
        "id": "HWX1Z6E7MbTx"
      },
      "source": [
        ""
      ],
      "execution_count": null,
      "outputs": []
    },
    {
      "cell_type": "code",
      "metadata": {
        "id": "qbxaQzgFMbVj"
      },
      "source": [
        ""
      ],
      "execution_count": null,
      "outputs": []
    },
    {
      "cell_type": "code",
      "metadata": {
        "id": "7iGZAsMRMbX9"
      },
      "source": [
        ""
      ],
      "execution_count": null,
      "outputs": []
    },
    {
      "cell_type": "markdown",
      "metadata": {
        "id": "iEDgxw94Mc58"
      },
      "source": [
        "# Абстрагирование от данного датасета"
      ]
    },
    {
      "cell_type": "code",
      "metadata": {
        "id": "2C8PCgJ2Mbbf"
      },
      "source": [
        "data = pd.read_csv('UCI_Credit_Card.csv')\n",
        "data.head()"
      ],
      "execution_count": null,
      "outputs": []
    },
    {
      "cell_type": "code",
      "metadata": {
        "id": "iKu8BHCOMwjT"
      },
      "source": [
        "data.drop(columns=['ID'], inplace=True)"
      ],
      "execution_count": null,
      "outputs": []
    },
    {
      "cell_type": "code",
      "metadata": {
        "id": "UVuQTUKPNBTo"
      },
      "source": [
        "data.head()"
      ],
      "execution_count": null,
      "outputs": []
    },
    {
      "cell_type": "code",
      "metadata": {
        "id": "50SiwjLxNCGI"
      },
      "source": [
        "# хреновый датасет, оч мало признаков"
      ],
      "execution_count": null,
      "outputs": []
    },
    {
      "cell_type": "code",
      "metadata": {
        "id": "-JQr7snhOmT3"
      },
      "source": [
        "df = pd.read_csv(\"train_v2.csv\")\n",
        "df.head()"
      ],
      "execution_count": null,
      "outputs": []
    },
    {
      "cell_type": "code",
      "metadata": {
        "id": "h8OAKKREOngy"
      },
      "source": [
        ""
      ],
      "execution_count": null,
      "outputs": []
    }
  ]
}