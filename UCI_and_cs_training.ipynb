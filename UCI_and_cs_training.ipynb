{
  "nbformat": 4,
  "nbformat_minor": 0,
  "metadata": {
    "colab": {
      "name": "UCI_and_cs-training.ipynb",
      "provenance": [],
      "authorship_tag": "ABX9TyN02hh/DPUg9MVXxHSIj4Kx",
      "include_colab_link": true
    },
    "kernelspec": {
      "name": "python3",
      "display_name": "Python 3"
    },
    "language_info": {
      "name": "python"
    }
  },
  "cells": [
    {
      "cell_type": "markdown",
      "metadata": {
        "id": "view-in-github",
        "colab_type": "text"
      },
      "source": [
        "<a href=\"https://colab.research.google.com/github/surkovvv/loan_default_prediction/blob/misha/UCI_and_cs_training.ipynb\" target=\"_parent\"><img src=\"https://colab.research.google.com/assets/colab-badge.svg\" alt=\"Open In Colab\"/></a>"
      ]
    },
    {
      "cell_type": "code",
      "metadata": {
        "id": "wnpMy1Mlxyfx"
      },
      "source": [
        "import pandas as pd\n",
        "import numpy as np\n",
        "import matplotlib.pyplot as plt\n",
        "import seaborn as sns\n",
        "import warnings\n",
        "warnings.simplefilter(\"ignore\")\n",
        "%matplotlib inline\n",
        "\n",
        "sns.set(style=\"darkgrid\")\n"
      ],
      "execution_count": 1,
      "outputs": []
    },
    {
      "cell_type": "code",
      "metadata": {
        "id": "Ztl_WT2Sx_Y0"
      },
      "source": [
        "X = pd.read_csv(\"cs-training.csv\")\n",
        "for col in X.columns:\n",
        "  print(X[col].isna().sum())"
      ],
      "execution_count": null,
      "outputs": []
    },
    {
      "cell_type": "code",
      "metadata": {
        "id": "2wSSCBrxyGs8"
      },
      "source": [
        "X = pd.read_csv(\"cs-training.csv\")\n",
        "X.sample(50)"
      ],
      "execution_count": null,
      "outputs": []
    },
    {
      "cell_type": "code",
      "metadata": {
        "id": "3LxYR45B2hJ9"
      },
      "source": [
        "X[\"NumberOfTimes90DaysLate\"].unique()\n"
      ],
      "execution_count": null,
      "outputs": []
    },
    {
      "cell_type": "code",
      "metadata": {
        "id": "FMyp09_82lnj"
      },
      "source": [
        "X[(X[\"NumberOfTimes90DaysLate\"] > 10)][\"NumberOfTimes90DaysLate\"].hist()"
      ],
      "execution_count": null,
      "outputs": []
    },
    {
      "cell_type": "markdown",
      "metadata": {
        "id": "umu4H0ar1B74"
      },
      "source": [
        "Полный разбор есть по ссылке: https://www.kaggle.com/caesarlupum/modeling-give-me-some-credit/notebook"
      ]
    },
    {
      "cell_type": "code",
      "metadata": {
        "colab": {
          "base_uri": "https://localhost:8080/",
          "height": 383
        },
        "id": "t0LQ53JL2qvz",
        "outputId": "54d16185-5c79-4e1b-a3c6-acb9651a5bc3"
      },
      "source": [
        "db = pd.read_csv(\"UCI_Credit_Card.csv\")\n",
        "db.sample(10)"
      ],
      "execution_count": 34,
      "outputs": [
        {
          "output_type": "execute_result",
          "data": {
            "text/html": [
              "<div>\n",
              "<style scoped>\n",
              "    .dataframe tbody tr th:only-of-type {\n",
              "        vertical-align: middle;\n",
              "    }\n",
              "\n",
              "    .dataframe tbody tr th {\n",
              "        vertical-align: top;\n",
              "    }\n",
              "\n",
              "    .dataframe thead th {\n",
              "        text-align: right;\n",
              "    }\n",
              "</style>\n",
              "<table border=\"1\" class=\"dataframe\">\n",
              "  <thead>\n",
              "    <tr style=\"text-align: right;\">\n",
              "      <th></th>\n",
              "      <th>ID</th>\n",
              "      <th>LIMIT_BAL</th>\n",
              "      <th>SEX</th>\n",
              "      <th>EDUCATION</th>\n",
              "      <th>MARRIAGE</th>\n",
              "      <th>AGE</th>\n",
              "      <th>PAY_0</th>\n",
              "      <th>PAY_2</th>\n",
              "      <th>PAY_3</th>\n",
              "      <th>PAY_4</th>\n",
              "      <th>PAY_5</th>\n",
              "      <th>PAY_6</th>\n",
              "      <th>BILL_AMT1</th>\n",
              "      <th>BILL_AMT2</th>\n",
              "      <th>BILL_AMT3</th>\n",
              "      <th>BILL_AMT4</th>\n",
              "      <th>BILL_AMT5</th>\n",
              "      <th>BILL_AMT6</th>\n",
              "      <th>PAY_AMT1</th>\n",
              "      <th>PAY_AMT2</th>\n",
              "      <th>PAY_AMT3</th>\n",
              "      <th>PAY_AMT4</th>\n",
              "      <th>PAY_AMT5</th>\n",
              "      <th>PAY_AMT6</th>\n",
              "      <th>default.payment.next.month</th>\n",
              "    </tr>\n",
              "  </thead>\n",
              "  <tbody>\n",
              "    <tr>\n",
              "      <th>21572</th>\n",
              "      <td>21573</td>\n",
              "      <td>20000.0</td>\n",
              "      <td>2</td>\n",
              "      <td>2</td>\n",
              "      <td>2</td>\n",
              "      <td>22</td>\n",
              "      <td>1</td>\n",
              "      <td>2</td>\n",
              "      <td>2</td>\n",
              "      <td>2</td>\n",
              "      <td>0</td>\n",
              "      <td>0</td>\n",
              "      <td>14645.0</td>\n",
              "      <td>14113.0</td>\n",
              "      <td>18550.0</td>\n",
              "      <td>17867.0</td>\n",
              "      <td>18072.0</td>\n",
              "      <td>17899.0</td>\n",
              "      <td>0.0</td>\n",
              "      <td>4675.0</td>\n",
              "      <td>0.0</td>\n",
              "      <td>701.0</td>\n",
              "      <td>563.0</td>\n",
              "      <td>1000.0</td>\n",
              "      <td>0</td>\n",
              "    </tr>\n",
              "    <tr>\n",
              "      <th>19007</th>\n",
              "      <td>19008</td>\n",
              "      <td>230000.0</td>\n",
              "      <td>2</td>\n",
              "      <td>1</td>\n",
              "      <td>2</td>\n",
              "      <td>30</td>\n",
              "      <td>-2</td>\n",
              "      <td>-2</td>\n",
              "      <td>-2</td>\n",
              "      <td>-2</td>\n",
              "      <td>-2</td>\n",
              "      <td>-2</td>\n",
              "      <td>0.0</td>\n",
              "      <td>0.0</td>\n",
              "      <td>846.0</td>\n",
              "      <td>846.0</td>\n",
              "      <td>0.0</td>\n",
              "      <td>846.0</td>\n",
              "      <td>0.0</td>\n",
              "      <td>846.0</td>\n",
              "      <td>846.0</td>\n",
              "      <td>0.0</td>\n",
              "      <td>846.0</td>\n",
              "      <td>500.0</td>\n",
              "      <td>0</td>\n",
              "    </tr>\n",
              "    <tr>\n",
              "      <th>21670</th>\n",
              "      <td>21671</td>\n",
              "      <td>100000.0</td>\n",
              "      <td>2</td>\n",
              "      <td>2</td>\n",
              "      <td>2</td>\n",
              "      <td>23</td>\n",
              "      <td>-1</td>\n",
              "      <td>-1</td>\n",
              "      <td>-1</td>\n",
              "      <td>0</td>\n",
              "      <td>-1</td>\n",
              "      <td>-1</td>\n",
              "      <td>892.0</td>\n",
              "      <td>2180.0</td>\n",
              "      <td>10876.0</td>\n",
              "      <td>11714.0</td>\n",
              "      <td>7177.0</td>\n",
              "      <td>10455.0</td>\n",
              "      <td>2180.0</td>\n",
              "      <td>10876.0</td>\n",
              "      <td>3000.0</td>\n",
              "      <td>7177.0</td>\n",
              "      <td>10455.0</td>\n",
              "      <td>2819.0</td>\n",
              "      <td>0</td>\n",
              "    </tr>\n",
              "    <tr>\n",
              "      <th>12581</th>\n",
              "      <td>12582</td>\n",
              "      <td>160000.0</td>\n",
              "      <td>2</td>\n",
              "      <td>3</td>\n",
              "      <td>1</td>\n",
              "      <td>39</td>\n",
              "      <td>0</td>\n",
              "      <td>0</td>\n",
              "      <td>0</td>\n",
              "      <td>0</td>\n",
              "      <td>0</td>\n",
              "      <td>0</td>\n",
              "      <td>40892.0</td>\n",
              "      <td>42416.0</td>\n",
              "      <td>43367.0</td>\n",
              "      <td>44344.0</td>\n",
              "      <td>45486.0</td>\n",
              "      <td>50520.0</td>\n",
              "      <td>2500.0</td>\n",
              "      <td>3000.0</td>\n",
              "      <td>2000.0</td>\n",
              "      <td>1856.0</td>\n",
              "      <td>6000.0</td>\n",
              "      <td>2000.0</td>\n",
              "      <td>0</td>\n",
              "    </tr>\n",
              "    <tr>\n",
              "      <th>5222</th>\n",
              "      <td>5223</td>\n",
              "      <td>400000.0</td>\n",
              "      <td>1</td>\n",
              "      <td>3</td>\n",
              "      <td>2</td>\n",
              "      <td>49</td>\n",
              "      <td>0</td>\n",
              "      <td>0</td>\n",
              "      <td>-2</td>\n",
              "      <td>-2</td>\n",
              "      <td>-1</td>\n",
              "      <td>0</td>\n",
              "      <td>36560.0</td>\n",
              "      <td>0.0</td>\n",
              "      <td>0.0</td>\n",
              "      <td>0.0</td>\n",
              "      <td>1757.0</td>\n",
              "      <td>21667.0</td>\n",
              "      <td>0.0</td>\n",
              "      <td>0.0</td>\n",
              "      <td>0.0</td>\n",
              "      <td>1757.0</td>\n",
              "      <td>20000.0</td>\n",
              "      <td>10158.0</td>\n",
              "      <td>0</td>\n",
              "    </tr>\n",
              "    <tr>\n",
              "      <th>29559</th>\n",
              "      <td>29560</td>\n",
              "      <td>20000.0</td>\n",
              "      <td>1</td>\n",
              "      <td>2</td>\n",
              "      <td>1</td>\n",
              "      <td>38</td>\n",
              "      <td>0</td>\n",
              "      <td>0</td>\n",
              "      <td>0</td>\n",
              "      <td>0</td>\n",
              "      <td>0</td>\n",
              "      <td>-1</td>\n",
              "      <td>9269.0</td>\n",
              "      <td>10585.0</td>\n",
              "      <td>11608.0</td>\n",
              "      <td>12313.0</td>\n",
              "      <td>12848.0</td>\n",
              "      <td>800.0</td>\n",
              "      <td>1477.0</td>\n",
              "      <td>1500.0</td>\n",
              "      <td>1000.0</td>\n",
              "      <td>1500.0</td>\n",
              "      <td>800.0</td>\n",
              "      <td>800.0</td>\n",
              "      <td>0</td>\n",
              "    </tr>\n",
              "    <tr>\n",
              "      <th>27772</th>\n",
              "      <td>27773</td>\n",
              "      <td>120000.0</td>\n",
              "      <td>2</td>\n",
              "      <td>1</td>\n",
              "      <td>2</td>\n",
              "      <td>24</td>\n",
              "      <td>-1</td>\n",
              "      <td>-1</td>\n",
              "      <td>-1</td>\n",
              "      <td>-1</td>\n",
              "      <td>-1</td>\n",
              "      <td>-1</td>\n",
              "      <td>2946.0</td>\n",
              "      <td>384.0</td>\n",
              "      <td>1914.0</td>\n",
              "      <td>390.0</td>\n",
              "      <td>0.0</td>\n",
              "      <td>780.0</td>\n",
              "      <td>384.0</td>\n",
              "      <td>1920.0</td>\n",
              "      <td>390.0</td>\n",
              "      <td>0.0</td>\n",
              "      <td>780.0</td>\n",
              "      <td>0.0</td>\n",
              "      <td>1</td>\n",
              "    </tr>\n",
              "    <tr>\n",
              "      <th>1041</th>\n",
              "      <td>1042</td>\n",
              "      <td>230000.0</td>\n",
              "      <td>2</td>\n",
              "      <td>2</td>\n",
              "      <td>2</td>\n",
              "      <td>52</td>\n",
              "      <td>2</td>\n",
              "      <td>-1</td>\n",
              "      <td>2</td>\n",
              "      <td>0</td>\n",
              "      <td>-1</td>\n",
              "      <td>-1</td>\n",
              "      <td>1292.0</td>\n",
              "      <td>3943.0</td>\n",
              "      <td>1990.0</td>\n",
              "      <td>1499.0</td>\n",
              "      <td>593.0</td>\n",
              "      <td>2553.0</td>\n",
              "      <td>3951.0</td>\n",
              "      <td>1.0</td>\n",
              "      <td>9.0</td>\n",
              "      <td>594.0</td>\n",
              "      <td>2560.0</td>\n",
              "      <td>3759.0</td>\n",
              "      <td>1</td>\n",
              "    </tr>\n",
              "    <tr>\n",
              "      <th>20648</th>\n",
              "      <td>20649</td>\n",
              "      <td>10000.0</td>\n",
              "      <td>1</td>\n",
              "      <td>3</td>\n",
              "      <td>2</td>\n",
              "      <td>23</td>\n",
              "      <td>0</td>\n",
              "      <td>0</td>\n",
              "      <td>0</td>\n",
              "      <td>0</td>\n",
              "      <td>0</td>\n",
              "      <td>0</td>\n",
              "      <td>7787.0</td>\n",
              "      <td>8412.0</td>\n",
              "      <td>9450.0</td>\n",
              "      <td>9414.0</td>\n",
              "      <td>5354.0</td>\n",
              "      <td>5275.0</td>\n",
              "      <td>1299.0</td>\n",
              "      <td>1337.0</td>\n",
              "      <td>1081.0</td>\n",
              "      <td>191.0</td>\n",
              "      <td>375.0</td>\n",
              "      <td>0.0</td>\n",
              "      <td>0</td>\n",
              "    </tr>\n",
              "    <tr>\n",
              "      <th>628</th>\n",
              "      <td>629</td>\n",
              "      <td>30000.0</td>\n",
              "      <td>1</td>\n",
              "      <td>3</td>\n",
              "      <td>1</td>\n",
              "      <td>48</td>\n",
              "      <td>0</td>\n",
              "      <td>0</td>\n",
              "      <td>0</td>\n",
              "      <td>0</td>\n",
              "      <td>0</td>\n",
              "      <td>0</td>\n",
              "      <td>29434.0</td>\n",
              "      <td>28960.0</td>\n",
              "      <td>29022.0</td>\n",
              "      <td>29201.0</td>\n",
              "      <td>29553.0</td>\n",
              "      <td>29693.0</td>\n",
              "      <td>1465.0</td>\n",
              "      <td>2000.0</td>\n",
              "      <td>1033.0</td>\n",
              "      <td>1200.0</td>\n",
              "      <td>1055.0</td>\n",
              "      <td>530.0</td>\n",
              "      <td>0</td>\n",
              "    </tr>\n",
              "  </tbody>\n",
              "</table>\n",
              "</div>"
            ],
            "text/plain": [
              "          ID  LIMIT_BAL  SEX  ...  PAY_AMT5  PAY_AMT6  default.payment.next.month\n",
              "21572  21573    20000.0    2  ...     563.0    1000.0                           0\n",
              "19007  19008   230000.0    2  ...     846.0     500.0                           0\n",
              "21670  21671   100000.0    2  ...   10455.0    2819.0                           0\n",
              "12581  12582   160000.0    2  ...    6000.0    2000.0                           0\n",
              "5222    5223   400000.0    1  ...   20000.0   10158.0                           0\n",
              "29559  29560    20000.0    1  ...     800.0     800.0                           0\n",
              "27772  27773   120000.0    2  ...     780.0       0.0                           1\n",
              "1041    1042   230000.0    2  ...    2560.0    3759.0                           1\n",
              "20648  20649    10000.0    1  ...     375.0       0.0                           0\n",
              "628      629    30000.0    1  ...    1055.0     530.0                           0\n",
              "\n",
              "[10 rows x 25 columns]"
            ]
          },
          "metadata": {},
          "execution_count": 34
        }
      ]
    },
    {
      "cell_type": "markdown",
      "metadata": {
        "id": "RgT4vzyX8fqn"
      },
      "source": [
        "Ссылка на описание этого датасета: https://archive.ics.uci.edu/ml/datasets/default+of+credit+card+clients"
      ]
    },
    {
      "cell_type": "code",
      "metadata": {
        "colab": {
          "base_uri": "https://localhost:8080/"
        },
        "id": "W52WG2EV5pWu",
        "outputId": "1509615f-7cfa-4a99-d87f-43ffa83c5dec"
      },
      "source": [
        "db.shape"
      ],
      "execution_count": 37,
      "outputs": [
        {
          "output_type": "execute_result",
          "data": {
            "text/plain": [
              "(30000, 25)"
            ]
          },
          "metadata": {},
          "execution_count": 37
        }
      ]
    },
    {
      "cell_type": "markdown",
      "metadata": {
        "id": "fbs8fJrQ6nNn"
      },
      "source": [
        "Первый столбец надо дропать потому что он линейно связан с индексом "
      ]
    },
    {
      "cell_type": "code",
      "metadata": {
        "id": "R32Md5s_5cfu"
      },
      "source": [
        "for col in db.columns:\n",
        "  print(db[col].isna().sum())"
      ],
      "execution_count": null,
      "outputs": []
    },
    {
      "cell_type": "markdown",
      "metadata": {
        "id": "GwyhdqSI5mbb"
      },
      "source": [
        "Этот датасет без пропусков\n"
      ]
    },
    {
      "cell_type": "code",
      "metadata": {
        "colab": {
          "base_uri": "https://localhost:8080/",
          "height": 338
        },
        "id": "C1eZSDP-6GuW",
        "outputId": "9d14237c-6e22-442e-973d-bd0f48d92081"
      },
      "source": [
        "sns.heatmap(db.loc[:,\"BILL_AMT1\":\"BILL_AMT6\"].corr())\n"
      ],
      "execution_count": 43,
      "outputs": [
        {
          "output_type": "execute_result",
          "data": {
            "text/plain": [
              "<matplotlib.axes._subplots.AxesSubplot at 0x7f39d8f9a8d0>"
            ]
          },
          "metadata": {},
          "execution_count": 43
        },
        {
          "output_type": "display_data",
          "data": {
            "image/png": "[encoded data removed]",
            "text/plain": [
              "<Figure size 432x288 with 2 Axes>"
            ]
          },
          "metadata": {
            "needs_background": "light"
          }
        }
      ]
    },
    {
      "cell_type": "code",
      "metadata": {
        "colab": {
          "base_uri": "https://localhost:8080/",
          "height": 290
        },
        "id": "Lp4k_Z19-Vmn",
        "outputId": "cdffa745-685a-4fd3-a4a5-243c6e1d2819"
      },
      "source": [
        "sns.heatmap(db.loc[:,\"PAY_0\":\"PAY_6\"].corr())"
      ],
      "execution_count": 46,
      "outputs": [
        {
          "output_type": "execute_result",
          "data": {
            "text/plain": [
              "<matplotlib.axes._subplots.AxesSubplot at 0x7f39d8e34750>"
            ]
          },
          "metadata": {},
          "execution_count": 46
        },
        {
          "output_type": "display_data",
          "data": {
            "image/png": "[encoded data removed]",
            "text/plain": [
              "<Figure size 432x288 with 2 Axes>"
            ]
          },
          "metadata": {
            "needs_background": "light"
          }
        }
      ]
    },
    {
      "cell_type": "markdown",
      "metadata": {
        "id": "Smaff79M_qbH"
      },
      "source": [
        "Есть разбор проблемы корреляции по ссылке: https://www.machinelearningmastery.ru/background-d5f101e00afc/ "
      ]
    }
  ]
}